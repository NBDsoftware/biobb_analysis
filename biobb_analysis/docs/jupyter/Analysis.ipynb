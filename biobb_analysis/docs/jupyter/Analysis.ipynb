{
 "cells": [
  {
   "cell_type": "markdown",
   "metadata": {},
   "source": [
    "## Cpptraj average"
   ]
  },
  {
   "cell_type": "code",
   "execution_count": 1,
   "metadata": {},
   "outputs": [
    {
     "name": "stdout",
     "output_type": "stream",
     "text": [
      "usage: cpptraj_average [-h] --config CONFIG [--system SYSTEM] [--step STEP]\r\n",
      "                       --input_top_path INPUT_TOP_PATH --input_traj_path\r\n",
      "                       INPUT_TRAJ_PATH --output_cpptraj_path\r\n",
      "                       OUTPUT_CPPTRAJ_PATH\r\n",
      "\r\n",
      "Wrapper for the Ambertools cpptraj module.\r\n",
      "\r\n",
      "optional arguments:\r\n",
      "  -h, --help            show this help message and exit\r\n",
      "  --config CONFIG       Configuration file\r\n",
      "  --system SYSTEM\r\n",
      "  --step STEP\r\n",
      "  --input_top_path INPUT_TOP_PATH\r\n",
      "                        Path to the input Amber structure or topology file.\r\n",
      "  --input_traj_path INPUT_TRAJ_PATH\r\n",
      "                        Path to the input Amber trajectory to be processed.\r\n",
      "  --output_cpptraj_path OUTPUT_CPPTRAJ_PATH\r\n",
      "                        Path to the output processed Amber trajectory or to\r\n",
      "                        the output dat file containing the analysis results.\r\n"
     ]
    }
   ],
   "source": [
    "!cpptraj_average -h"
   ]
  },
  {
   "cell_type": "code",
   "execution_count": 4,
   "metadata": {},
   "outputs": [
    {
     "name": "stdout",
     "output_type": "stream",
     "text": [
      "properties:\r\n",
      "    in_parameters:\r\n",
      "      start: 1\r\n",
      "      end: -1\r\n",
      "      step: 1\r\n",
      "      mask: c-alpha\r\n",
      "    out_parameters:\r\n",
      "      format: pdb\r\n"
     ]
    }
   ],
   "source": [
    "!cat conf/average.yml"
   ]
  },
  {
   "cell_type": "code",
   "execution_count": 6,
   "metadata": {},
   "outputs": [
    {
     "name": "stdout",
     "output_type": "stream",
     "text": [
      "2019-02-26 16:05:28,182 [MainThread  ] [INFO ]  cpptraj -i instructions.in\r\n",
      "\r\n",
      "2019-02-26 16:05:28,183 [MainThread  ] [INFO ]  Exit code 0\r\n",
      "\r\n",
      "2019-02-26 16:05:28,183 [MainThread  ] [INFO ]  \r\n",
      "CPPTRAJ: Trajectory Analysis. V18.00\r\n",
      "    ___  ___  ___  ___\r\n",
      "     | \\/ | \\/ | \\/ | \r\n",
      "    _|_/\\_|_/\\_|_/\\_|_\r\n",
      "\r\n",
      "| Date/time: 02/26/19 16:05:28\r\n",
      "| Available memory: 1.170 GB\r\n",
      "\r\n",
      "INPUT: Reading input from 'instructions.in'\r\n",
      "  [parm data/input/cpptraj.parm.top]\r\n",
      "\tReading 'data/input/cpptraj.parm.top' as Amber Topology\r\n",
      "\tThis Amber topology does not include atomic numbers.\r\n",
      "\tAssigning elements from atom masses/names.\r\n",
      "\tNo SCEE section: setting Amber default (1.2)\r\n",
      "\tNo SCNB section: setting Amber default (2.0)\r\n",
      "  [trajin data/input/cpptraj.traj.dcd 1 -1 1]\r\n",
      "\tReading 'data/input/cpptraj.traj.dcd' as Charmm DCD\r\n",
      "  [center !@H*,1H*,2H*,3H* origin]\r\n",
      "    CENTER: Centering coordinates using geometric center of atoms in mask (!@H*,1H*,2H*,3H*) to\r\n",
      "\tcoordinate origin.\r\n",
      "  [autoimage]\r\n",
      "    AUTOIMAGE: To box center based on center of mass, anchor is first molecule.\r\n",
      "  [rms first !@H*,1H*,2H*,3H*]\r\n",
      "    RMSD: (!@H*,1H*,2H*,3H*), reference is first frame (!@H*,1H*,2H*,3H*).\r\n",
      "\tBest-fit RMSD will be calculated, coords will be rotated and translated.\r\n",
      "  [strip :WAT,HOH,SOL,TIP3,TP3,SOD,CLA,Na+,Cl-,NA,CL,K+,K]\r\n",
      "    STRIP: Stripping atoms in mask [:WAT,HOH,SOL,TIP3,TP3,SOD,CLA,Na+,Cl-,NA,CL,K+,K]\r\n",
      "  [strip !@CA]\r\n",
      "    STRIP: Stripping atoms in mask [!@CA]\r\n",
      "  [average data/output/output.average.nc pdb]\r\n",
      "\tWriting 'data/output/output.average.nc' as PDB\r\n",
      "    AVERAGE: Averaging over coordinates in mask [*]\r\n",
      "\tStart: 1  Stop: Final frame\r\n",
      "\tWriting averaged coords to file 'data/output/output.average.nc'\r\n",
      "---------- RUN BEGIN -------------------------------------------------\r\n",
      "\r\n",
      "PARAMETER FILES (1 total):\r\n",
      " 0: cpptraj.parm.top, 11207 atoms, 710 res, box: None, 1 mol\r\n",
      "\r\n",
      "INPUT TRAJECTORIES (1 total):\r\n",
      " 0: 'cpptraj.traj.dcd' is a CHARMM DCD file Little Endian 32 bit, Parm cpptraj.parm.top (reading 50 of 50)\r\n",
      "  Coordinate processing will occur on 50 frames.\r\n",
      "\r\n",
      "BEGIN TRAJECTORY PROCESSING:\r\n",
      ".....................................................\r\n",
      "ACTION SETUP FOR PARM 'cpptraj.parm.top' (6 actions):\r\n",
      "  0: [center !@H*,1H*,2H*,3H* origin]\r\n",
      "\tMask [!@H*,1H*,2H*,3H*] corresponds to 5698 atoms.\r\n",
      "  1: [autoimage]\r\n",
      "Warning: Topology cpptraj.parm.top does not contain box information.\r\n",
      "Warning: Setup incomplete for [autoimage]: Skipping\r\n",
      "  2: [rms first !@H*,1H*,2H*,3H*]\r\n",
      "\tTarget mask: [!@H*,1H*,2H*,3H*](5698)\r\n",
      "\tReference mask: [!@H*,1H*,2H*,3H*](5698)\r\n",
      "  3: [strip :WAT,HOH,SOL,TIP3,TP3,SOD,CLA,Na+,Cl-,NA,CL,K+,K]\r\n",
      "\tStripping 0 atoms.\r\n",
      "Warning: No atoms to strip. Skipping 'strip' for topology 'cpptraj.parm.top'\r\n",
      "Warning: Setup incomplete for [strip]: Skipping\r\n",
      "  4: [strip !@CA]\r\n",
      "\tStripping 10497 atoms.\r\n",
      "\tStripped topology: 710 atoms, 710 res, box: None, 710 mol\r\n",
      "  5: [average data/output/output.average.nc pdb]\r\n",
      "\tMask [*] corresponds to 710 atoms.\r\n",
      "\tAveraging over 710 atoms.\r\n",
      "----- cpptraj.traj.dcd (1-50, 1) -----\r\n",
      " 0% 10% 20% 31% 41% 51% 61% 71% 82% 92% 100% Complete.\r\n",
      "\r\n",
      "Read 50 frames and processed 50 frames.\r\n",
      "TIME: Avg. throughput= 4591.3682 frames / second.\r\n",
      "\r\n",
      "ACTION OUTPUT:\r\n",
      "    AVERAGE: 50 frames,  'output.average.nc' is a PDB file, Parm cpptraj.parm.top: Writing 1 frames (1-Last, 1)\r\n",
      "TIME: Analyses took 0.0000 seconds.\r\n",
      "\r\n",
      "DATASETS (1 total):\r\n",
      "\tRMSD_00001 \"RMSD_00001\" (double, rms), size is 50\r\n",
      "\r\n",
      "RUN TIMING:\r\n",
      "TIME:\t\tInit               : 0.0000 s (  0.05%)\r\n",
      "TIME:\t\tTrajectory Process : 0.0109 s ( 82.93%)\r\n",
      "TIME:\t\tAction Post        : 0.0022 s ( 16.73%)\r\n",
      "TIME:\t\tAnalysis           : 0.0000 s (  0.00%)\r\n",
      "TIME:\t\tData File Write    : 0.0000 s (  0.03%)\r\n",
      "TIME:\t\tOther              : 0.0000 s (  0.00%)\r\n",
      "TIME:\tRun Total 0.0131 s\r\n",
      "---------- RUN END ---------------------------------------------------\r\n",
      "TIME: Total execution time: 0.0396 seconds.\r\n",
      "--------------------------------------------------------------------------------\r\n",
      "To cite CPPTRAJ use:\r\n",
      "Daniel R. Roe and Thomas E. Cheatham, III, \"PTRAJ and CPPTRAJ: Software for\r\n",
      "  Processing and Analysis of Molecular Dynamics Trajectory Data\". J. Chem.\r\n",
      "  Theory Comput., 2013, 9 (7), pp 3084-3095.\r\n",
      "\r\n",
      "\r\n",
      "2019-02-26 16:05:28,183 [MainThread  ] [INFO ]  Removed: ['instructions.in']\r\n"
     ]
    }
   ],
   "source": [
    "!cpptraj_average --config data/conf/average.yml --input_top_path data/input/cpptraj.parm.top --input_traj_path data/input/cpptraj.traj.dcd --output_cpptraj_path data/output/output.average.nc"
   ]
  },
  {
   "cell_type": "code",
   "execution_count": null,
   "metadata": {},
   "outputs": [],
   "source": []
  }
 ],
 "metadata": {
  "kernelspec": {
   "display_name": "Python 3",
   "language": "python",
   "name": "python3"
  },
  "language_info": {
   "codemirror_mode": {
    "name": "ipython",
    "version": 3
   },
   "file_extension": ".py",
   "mimetype": "text/x-python",
   "name": "python",
   "nbconvert_exporter": "python",
   "pygments_lexer": "ipython3",
   "version": "3.5.5"
  }
 },
 "nbformat": 4,
 "nbformat_minor": 2
}
