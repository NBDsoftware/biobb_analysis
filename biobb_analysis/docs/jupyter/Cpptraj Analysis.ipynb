{
 "cells": [
  {
   "cell_type": "markdown",
   "metadata": {},
   "source": [
    "# BioBB Analysis Command Line Help"
   ]
  },
  {
   "cell_type": "markdown",
   "metadata": {},
   "source": [
    "Generic usage:"
   ]
  },
  {
   "cell_type": "code",
   "execution_count": null,
   "metadata": {},
   "outputs": [],
   "source": [
    "biobb_command [-h] --config CONFIG [--system SYSTEM] [--step STEP] --input_file(s) <input_file(s)> --output_file <output_file>"
   ]
  },
  {
   "cell_type": "markdown",
   "metadata": {},
   "source": [
    "Please refer to the [system & step documentation](https://biobb-common.readthedocs.io/en/latest/system_step.html) for more information of these two parameters."
   ]
  },
  {
   "cell_type": "markdown",
   "metadata": {},
   "source": [
    "-----------------"
   ]
  },
  {
   "cell_type": "markdown",
   "metadata": {},
   "source": [
    "## Cpptraj average"
   ]
  },
  {
   "cell_type": "markdown",
   "metadata": {},
   "source": [
    "Wrapper of the Ambertools Cpptraj Average module."
   ]
  },
  {
   "cell_type": "markdown",
   "metadata": {},
   "source": [
    "### Get help"
   ]
  },
  {
   "cell_type": "markdown",
   "metadata": {},
   "source": [
    "Command:"
   ]
  },
  {
   "cell_type": "code",
   "execution_count": null,
   "metadata": {},
   "outputs": [],
   "source": [
    "cpptraj_average -h"
   ]
  },
  {
   "cell_type": "code",
   "execution_count": null,
   "metadata": {},
   "outputs": [],
   "source": [
    "usage: cpptraj_average [-h] --config CONFIG [--system SYSTEM] [--step STEP]\n",
    "                       --input_top_path INPUT_TOP_PATH --input_traj_path\n",
    "                       INPUT_TRAJ_PATH --output_cpptraj_path\n",
    "                       OUTPUT_CPPTRAJ_PATH\n",
    "\n",
    "Wrapper for the Ambertools cpptraj average module.\n",
    "\n",
    "optional arguments:\n",
    "  -h, --help            show this help message and exit\n",
    "  --config CONFIG       Configuration file\n",
    "  --system SYSTEM\n",
    "  --step STEP\n",
    "  --input_top_path INPUT_TOP_PATH\n",
    "                        Path to the input Amber structure or topology file.\n",
    "  --input_traj_path INPUT_TRAJ_PATH\n",
    "                        Path to the input Amber trajectory to be processed.\n",
    "  --output_cpptraj_path OUTPUT_CPPTRAJ_PATH\n",
    "                        Path to the output processed Amber trajectory or to\n",
    "                        the output dat file containing the analysis results.\n"
   ]
  },
  {
   "cell_type": "markdown",
   "metadata": {},
   "source": [
    "### Config"
   ]
  },
  {
   "cell_type": "markdown",
   "metadata": {},
   "source": [
    "Syntax: input_parameter (datatype) - (default_value) Definition\n",
    "\n",
    "Config parameters for this building block:\n",
    "\n",
    "* **in_parameters** (*dict*) - (None) Parameters for input trajectory. Accepted parameters:\n",
    "    * **start** (*int*) - (1) Starting frame for slicing\n",
    "    * **end** (*int*) - (-1) Ending frame for slicing\n",
    "    * **step** (*int*) - (1) Step for slicing\n",
    "    * **mask** (*string*) - (\"all-atoms\") Mask definition. Values: c-alpha, backbone, all-atoms, heavy-atoms, side-chain, solute, ions, solvent.\n",
    "* **out_parameters** (*dict*) - (None) Parameters for output trajectory.\n",
    "    * **format** (*str*) - (\"netcdf\") Output trajectory format. Values: crd, cdf, netcdf, restart, ncrestart, restartnc, dcd, charmm, cor, pdb, mol2, trr, gro, binpos, xtc, cif, arc, sqm, sdf, conflib.\n",
    "    * **cpptraj_path** (*str*) - (\"cpptraj\") Path to the cpptraj executable binary."
   ]
  },
  {
   "cell_type": "markdown",
   "metadata": {},
   "source": [
    "### YAML file config"
   ]
  },
  {
   "cell_type": "markdown",
   "metadata": {},
   "source": [
    "average.yml:"
   ]
  },
  {
   "cell_type": "code",
   "execution_count": null,
   "metadata": {},
   "outputs": [],
   "source": [
    "properties:\n",
    "  in_parameters:\n",
    "    start: 1\n",
    "    end: -1\n",
    "    step: 1\n",
    "    mask: c-alpha\n",
    "  out_parameters:\n",
    "    format: pdb"
   ]
  },
  {
   "cell_type": "markdown",
   "metadata": {},
   "source": [
    "Command:"
   ]
  },
  {
   "cell_type": "code",
   "execution_count": null,
   "metadata": {},
   "outputs": [],
   "source": [
    "cpptraj_average --config data/conf/average.yml --input_top_path data/input/cpptraj.parm.top --input_traj_path data/input/cpptraj.traj.dcd --output_cpptraj_path data/output/output.average.nc"
   ]
  },
  {
   "cell_type": "markdown",
   "metadata": {},
   "source": [
    "### JSON file config"
   ]
  },
  {
   "cell_type": "markdown",
   "metadata": {},
   "source": [
    "average.json:"
   ]
  },
  {
   "cell_type": "code",
   "execution_count": null,
   "metadata": {},
   "outputs": [],
   "source": [
    "{\n",
    "  \"properties\": {\n",
    "    \"in_parameters\": {\n",
    "      \"start\": 1,\n",
    "      \"end\": -1,\n",
    "      \"step\": 1,\n",
    "      \"mask\": \"c-alpha\"\n",
    "    },\n",
    "    \"out_parameters\": {\n",
    "       \"format\": \"pdb\"\n",
    "    }\n",
    "  }\n",
    "}"
   ]
  },
  {
   "cell_type": "markdown",
   "metadata": {},
   "source": [
    "Command:"
   ]
  },
  {
   "cell_type": "code",
   "execution_count": null,
   "metadata": {},
   "outputs": [],
   "source": [
    "cpptraj_average --config data/conf/average.json --input_top_path data/input/cpptraj.parm.top --input_traj_path data/input/cpptraj.traj.dcd --output_cpptraj_path data/output/output.average.nc"
   ]
  },
  {
   "cell_type": "markdown",
   "metadata": {},
   "source": [
    "## Cpptraj bfactor"
   ]
  },
  {
   "cell_type": "markdown",
   "metadata": {},
   "source": [
    "Wrapper of the Ambertools Cpptraj Bfactor module."
   ]
  },
  {
   "cell_type": "markdown",
   "metadata": {},
   "source": [
    "### Get help"
   ]
  },
  {
   "cell_type": "markdown",
   "metadata": {},
   "source": [
    "Command:"
   ]
  },
  {
   "cell_type": "code",
   "execution_count": null,
   "metadata": {},
   "outputs": [],
   "source": [
    "cpptraj_bfactor -h"
   ]
  },
  {
   "cell_type": "code",
   "execution_count": null,
   "metadata": {},
   "outputs": [],
   "source": [
    "usage: cpptraj_bfactor [-h] --config CONFIG [--system SYSTEM] [--step STEP]\n",
    "                       --input_top_path INPUT_TOP_PATH --input_traj_path\n",
    "                       INPUT_TRAJ_PATH [--input_exp_path INPUT_EXP_PATH]\n",
    "                       --output_cpptraj_path OUTPUT_CPPTRAJ_PATH\n",
    "\n",
    "Wrapper for the Ambertools cpptraj bfactor module.\n",
    "\n",
    "optional arguments:\n",
    "  -h, --help            show this help message and exit\n",
    "  --config CONFIG       Configuration file\n",
    "  --system SYSTEM\n",
    "  --step STEP\n",
    "  --input_top_path INPUT_TOP_PATH\n",
    "                        Path to the input Amber structure or topology file.\n",
    "  --input_traj_path INPUT_TRAJ_PATH\n",
    "                        Path to the input Amber trajectory to be processed.\n",
    "  --input_exp_path INPUT_EXP_PATH\n",
    "                        Path to the experimental reference file (required if\n",
    "                        reference = experimental).\n",
    "  --output_cpptraj_path OUTPUT_CPPTRAJ_PATH\n",
    "                        Path to the output processed Amber trajectory or to\n",
    "                        the output dat file containing the analysis results.\n"
   ]
  },
  {
   "cell_type": "markdown",
   "metadata": {},
   "source": [
    "### Config"
   ]
  },
  {
   "cell_type": "markdown",
   "metadata": {},
   "source": [
    "Syntax: input_parameter (datatype) - (default_value) Definition\n",
    "\n",
    "Config parameters for this building block:\n",
    "\n",
    "* **in_parameters** (*dict*) - (None) Parameters for input trajectory. Accepted parameters:\n",
    "    * **start** (*int*) - (1) Starting frame for slicing\n",
    "    * **end** (*int*) - (-1) Ending frame for slicing\n",
    "    * **step** (*int*) - (1) Step for slicing\n",
    "    * **mask** (*string*) - (\"all-atoms\") Mask definition. Values: c-alpha, backbone, all-atoms, heavy-atoms, side-chain, solute, ions, solvent.\n",
    "    * **reference** (*string*) - (\"first\") Reference definition. Values: first, average, experimental.\n",
    "* **cpptraj_path** (*str*) - (\"cpptraj\") Path to the cpptraj executable binary."
   ]
  },
  {
   "cell_type": "markdown",
   "metadata": {},
   "source": [
    "### YAML file config"
   ]
  },
  {
   "cell_type": "markdown",
   "metadata": {},
   "source": [
    "bfactor.yml:"
   ]
  },
  {
   "cell_type": "code",
   "execution_count": null,
   "metadata": {},
   "outputs": [],
   "source": [
    "properties:\n",
    "  in_parameters:\n",
    "    start: 1\n",
    "    end: -1\n",
    "    step: 1\n",
    "    mask: c-alpha\n",
    "    reference: first"
   ]
  },
  {
   "cell_type": "markdown",
   "metadata": {},
   "source": [
    "Command:"
   ]
  },
  {
   "cell_type": "code",
   "execution_count": null,
   "metadata": {},
   "outputs": [],
   "source": [
    "cpptraj_bfactor --config data/conf/bfactor.yml --input_top_path data/input/cpptraj.parm.top --input_traj_path data/input/cpptraj.traj.dcd --output_cpptraj_path data/output/output.bfactor.dat"
   ]
  },
  {
   "cell_type": "markdown",
   "metadata": {},
   "source": [
    "### JSON file config"
   ]
  },
  {
   "cell_type": "markdown",
   "metadata": {},
   "source": [
    "bfactor.json:"
   ]
  },
  {
   "cell_type": "code",
   "execution_count": null,
   "metadata": {},
   "outputs": [],
   "source": [
    "{\n",
    "  \"properties\": {\n",
    "    \"in_parameters\": {\n",
    "      \"start\": 1,\n",
    "      \"end\": -1,\n",
    "      \"step\": 1,\n",
    "      \"mask\": \"c-alpha\",\n",
    "      \"reference\": \"first\"\n",
    "    }\n",
    "  }\n",
    "}"
   ]
  },
  {
   "cell_type": "markdown",
   "metadata": {},
   "source": [
    "Command:"
   ]
  },
  {
   "cell_type": "code",
   "execution_count": null,
   "metadata": {},
   "outputs": [],
   "source": [
    "cpptraj_bfactor --config data/conf/bfactor.json --input_top_path data/input/cpptraj.parm.top --input_traj_path data/input/cpptraj.traj.dcd --output_cpptraj_path data/output/output.average.dat"
   ]
  },
  {
   "cell_type": "code",
   "execution_count": null,
   "metadata": {},
   "outputs": [],
   "source": []
  }
 ],
 "metadata": {
  "kernelspec": {
   "display_name": "Python 3",
   "language": "python",
   "name": "python3"
  },
  "language_info": {
   "codemirror_mode": {
    "name": "ipython",
    "version": 3
   },
   "file_extension": ".py",
   "mimetype": "text/x-python",
   "name": "python",
   "nbconvert_exporter": "python",
   "pygments_lexer": "ipython3",
   "version": "3.5.5"
  }
 },
 "nbformat": 4,
 "nbformat_minor": 2
}
