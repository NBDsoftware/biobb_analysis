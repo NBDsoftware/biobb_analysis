{
 "cells": [
  {
   "cell_type": "markdown",
   "metadata": {},
   "source": [
    "# BioBB Analysis Command Line Help"
   ]
  },
  {
   "cell_type": "markdown",
   "metadata": {},
   "source": [
    "Generic usage:"
   ]
  },
  {
   "cell_type": "code",
   "execution_count": null,
   "metadata": {},
   "outputs": [],
   "source": [
    "biobb_command [-h] --config CONFIG [--system SYSTEM] [--step STEP] --input_file(s) <input_file(s)> --output_file <output_file>"
   ]
  },
  {
   "cell_type": "markdown",
   "metadata": {},
   "source": [
    "Please refer to the [system & step documentation](https://biobb-common.readthedocs.io/en/latest/system_step.html) for more information of these two parameters."
   ]
  },
  {
   "cell_type": "markdown",
   "metadata": {},
   "source": [
    "-----------------"
   ]
  },
  {
   "cell_type": "markdown",
   "metadata": {},
   "source": [
    "## Cpptraj average"
   ]
  },
  {
   "cell_type": "markdown",
   "metadata": {},
   "source": [
    "Wrapper of the Ambertools Cpptraj module. Computing average structure."
   ]
  },
  {
   "cell_type": "markdown",
   "metadata": {},
   "source": [
    "### Get help"
   ]
  },
  {
   "cell_type": "markdown",
   "metadata": {},
   "source": [
    "Command:"
   ]
  },
  {
   "cell_type": "code",
   "execution_count": null,
   "metadata": {},
   "outputs": [],
   "source": [
    "cpptraj_average -h"
   ]
  },
  {
   "cell_type": "code",
   "execution_count": null,
   "metadata": {},
   "outputs": [],
   "source": [
    "usage: cpptraj_average [-h] [--config CONFIG] [--system SYSTEM] [--step STEP] --input_top_path INPUT_TOP_PATH --input_traj_path INPUT_TRAJ_PATH --output_cpptraj_path OUTPUT_CPPTRAJ_PATH\n",
    "\n",
    "Wrapper of the Ambertools Cpptraj module. Computing average structure.\n",
    "\n",
    "optional arguments:\n",
    "  -h, --help            show this help message and exit\n",
    "  --config CONFIG       Configuration file\n",
    "  --system SYSTEM       Check 'https://biobb-common.readthedocs.io/en/latest/system_step.html' for help\n",
    "  --step STEP           Check 'https://biobb-common.readthedocs.io/en/latest/system_step.html' for help\n",
    "\n",
    "required arguments:\n",
    "  --input_top_path INPUT_TOP_PATH\n",
    "                        Path to the input structure or topology file. Accepted formats: top, pdb, prmtop, parmtop, zip.\n",
    "  --input_traj_path INPUT_TRAJ_PATH\n",
    "                        Path to the input trajectory to be processed. Accepted formats: crd, cdf, netcdf, restart, ncrestart, restartnc, dcd, charmm, cor, pdb, mol2, trr, gro, binpos, xtc, cif, arc, sqm, sdf, conflib.\n",
    "  --output_cpptraj_path OUTPUT_CPPTRAJ_PATH\n",
    "                        Path to the output processed structure."
   ]
  },
  {
   "cell_type": "markdown",
   "metadata": {},
   "source": [
    "### I / O Arguments"
   ]
  },
  {
   "cell_type": "markdown",
   "metadata": {},
   "source": [
    "Syntax: input_argument (datatype) : Definition\n",
    "\n",
    "Config input / output arguments for this building block:\n",
    "\n",
    "* **input_top_path** (*str*): Path to the input structure or topology file. Accepted formats: top, pdb, prmtop, parmtop, zip.\n",
    "* **input_traj_path** (*str*): Path to the input trajectory to be processed. Accepted formats: crd, cdf, netcdf, restart, ncrestart, restartnc, dcd, charmm, cor, pdb, mol2, trr, gro, binpos, xtc, cif, arc, sqm, sdf, conflib.\n",
    "* **output_cpptraj_path** (*str*): Path to the output processed structure."
   ]
  },
  {
   "cell_type": "markdown",
   "metadata": {},
   "source": [
    "### Config"
   ]
  },
  {
   "cell_type": "markdown",
   "metadata": {},
   "source": [
    "Syntax: input_parameter (datatype) - (default_value) Definition\n",
    "\n",
    "Config parameters for this building block:\n",
    "\n",
    "* **in_parameters** (*dict*) - (None) Parameters for input trajectory. Accepted parameters:\n",
    "    * **start** (*int*) - (1) Starting frame for slicing\n",
    "    * **end** (*int*) - (-1) Ending frame for slicing\n",
    "    * **step** (*int*) - (1) Step for slicing\n",
    "    * **mask** (*string*) - (\"all-atoms\") Mask definition. Values: c-alpha, backbone, all-atoms, heavy-atoms, side-chain, solute, ions, solvent.\n",
    "* **out_parameters** (*dict*) - (None) Parameters for output trajectory.\n",
    "    * **format** (*str*) - (\"netcdf\") Output trajectory format. Values: crd, cdf, netcdf, restart, ncrestart, restartnc, dcd, charmm, cor, pdb, mol2, trr, gro, binpos, xtc, cif, arc, sqm, sdf, conflib.\n",
    "* **cpptraj_path** (*str*) - (\"cpptraj\") Path to the cpptraj executable binary."
   ]
  },
  {
   "cell_type": "markdown",
   "metadata": {},
   "source": [
    "### YAML file config"
   ]
  },
  {
   "cell_type": "markdown",
   "metadata": {},
   "source": [
    "average.yml:"
   ]
  },
  {
   "cell_type": "code",
   "execution_count": null,
   "metadata": {},
   "outputs": [],
   "source": [
    "properties:\n",
    "  in_parameters:\n",
    "    start: 1\n",
    "    end: -1\n",
    "    step: 1\n",
    "    mask: c-alpha\n",
    "  out_parameters:\n",
    "    format: netcdf"
   ]
  },
  {
   "cell_type": "markdown",
   "metadata": {},
   "source": [
    "Command:"
   ]
  },
  {
   "cell_type": "code",
   "execution_count": null,
   "metadata": {},
   "outputs": [],
   "source": [
    "cpptraj_average --config data/conf/average.yml --input_top_path data/input/cpptraj.parm.top --input_traj_path data/input/cpptraj.traj.dcd --output_cpptraj_path data/output/output.average.netcdf"
   ]
  },
  {
   "cell_type": "markdown",
   "metadata": {},
   "source": [
    "### JSON file config"
   ]
  },
  {
   "cell_type": "markdown",
   "metadata": {},
   "source": [
    "average.json:"
   ]
  },
  {
   "cell_type": "code",
   "execution_count": null,
   "metadata": {},
   "outputs": [],
   "source": [
    "{\n",
    "  \"properties\": {\n",
    "    \"in_parameters\": {\n",
    "      \"start\": 1,\n",
    "      \"end\": -1,\n",
    "      \"step\": 1,\n",
    "      \"mask\": \"c-alpha\"\n",
    "    },\n",
    "    \"out_parameters\": {\n",
    "       \"format\": \"netcdf\"\n",
    "    }\n",
    "  }\n",
    "}"
   ]
  },
  {
   "cell_type": "markdown",
   "metadata": {},
   "source": [
    "Command:"
   ]
  },
  {
   "cell_type": "code",
   "execution_count": null,
   "metadata": {},
   "outputs": [],
   "source": [
    "cpptraj_average --config data/conf/average.json --input_top_path data/input/cpptraj.parm.top --input_traj_path data/input/cpptraj.traj.dcd --output_cpptraj_path data/output/output.average.netcdf"
   ]
  },
  {
   "cell_type": "markdown",
   "metadata": {},
   "source": [
    "## Cpptraj bfactor"
   ]
  },
  {
   "cell_type": "markdown",
   "metadata": {},
   "source": [
    "Wrapper for the Ambertools Cpptraj module. Calculating B-Factor."
   ]
  },
  {
   "cell_type": "markdown",
   "metadata": {},
   "source": [
    "### Get help"
   ]
  },
  {
   "cell_type": "markdown",
   "metadata": {},
   "source": [
    "Command:"
   ]
  },
  {
   "cell_type": "code",
   "execution_count": null,
   "metadata": {},
   "outputs": [],
   "source": [
    "cpptraj_bfactor -h"
   ]
  },
  {
   "cell_type": "code",
   "execution_count": null,
   "metadata": {},
   "outputs": [],
   "source": [
    "usage: cpptraj_bfactor [-h] [--config CONFIG] [--system SYSTEM] [--step STEP] --input_top_path INPUT_TOP_PATH --input_traj_path INPUT_TRAJ_PATH [--input_exp_path INPUT_EXP_PATH] --output_cpptraj_path OUTPUT_CPPTRAJ_PATH\n",
    "\n",
    "Wrapper for the Ambertools Cpptraj module. Calculating B-Factor.\n",
    "\n",
    "optional arguments:\n",
    "  -h, --help            show this help message and exit\n",
    "  --config CONFIG       Configuration file\n",
    "  --system SYSTEM       Check 'https://biobb-common.readthedocs.io/en/latest/system_step.html' for help\n",
    "  --step STEP           Check 'https://biobb-common.readthedocs.io/en/latest/system_step.html' for help\n",
    "  --input_exp_path INPUT_EXP_PATH\n",
    "                        Path to the experimental reference file (required if reference = experimental).\n",
    "\n",
    "required arguments:\n",
    "  --input_top_path INPUT_TOP_PATH\n",
    "                        Path to the input structure or topology file. Accepted formats: top, pdb, prmtop, parmtop, zip.\n",
    "  --input_traj_path INPUT_TRAJ_PATH\n",
    "                        Path to the input trajectory to be processed. Accepted formats: crd, cdf, netcdf, restart, ncrestart, restartnc, dcd, charmm, cor, pdb, mol2, trr, gro, binpos, xtc, cif, arc, sqm, sdf, conflib.\n",
    "  --output_cpptraj_path OUTPUT_CPPTRAJ_PATH\n",
    "                        Path to the output processed analysis."
   ]
  },
  {
   "cell_type": "markdown",
   "metadata": {},
   "source": [
    "### I / O Arguments"
   ]
  },
  {
   "cell_type": "markdown",
   "metadata": {},
   "source": [
    "Syntax: input_argument (datatype) : Definition\n",
    "\n",
    "Config input / output arguments for this building block:\n",
    "\n",
    "* **input_top_path** (*str*): Path to the input structure or topology file. Accepted formats: top, pdb, prmtop, parmtop, zip.\n",
    "* **input_traj_path** (*str*): Path to the input trajectory to be processed. Accepted formats: crd, cdf, netcdf, restart, ncrestart, restartnc, dcd, charmm, cor, pdb, mol2, trr, gro, binpos, xtc, cif, arc, sqm, sdf, conflib.\n",
    "* **input_exp_path** (*str*): Path to the experimental reference file (required if reference = experimental).\n",
    "* **output_cpptraj_path** (*str*): Path to the output processed analysis."
   ]
  },
  {
   "cell_type": "markdown",
   "metadata": {},
   "source": [
    "### Config"
   ]
  },
  {
   "cell_type": "markdown",
   "metadata": {},
   "source": [
    "Syntax: input_parameter (datatype) - (default_value) Definition\n",
    "\n",
    "Config parameters for this building block:\n",
    "\n",
    "* **in_parameters** (*dict*) - (None) Parameters for input trajectory. Accepted parameters:\n",
    "    * **start** (*int*) - (1) Starting frame for slicing\n",
    "    * **end** (*int*) - (-1) Ending frame for slicing\n",
    "    * **step** (*int*) - (1) Step for slicing\n",
    "    * **mask** (*string*) - (\"all-atoms\") Mask definition. Values: c-alpha, backbone, all-atoms, heavy-atoms, side-chain, solute, ions, solvent.\n",
    "    * **reference** (*string*) - (\"first\") Reference definition. Values: first, average, experimental.\n",
    "* **cpptraj_path** (*str*) - (\"cpptraj\") Path to the cpptraj executable binary."
   ]
  },
  {
   "cell_type": "markdown",
   "metadata": {},
   "source": [
    "### YAML file config"
   ]
  },
  {
   "cell_type": "markdown",
   "metadata": {},
   "source": [
    "bfactor.yml:"
   ]
  },
  {
   "cell_type": "code",
   "execution_count": null,
   "metadata": {},
   "outputs": [],
   "source": [
    "properties:\n",
    "  in_parameters:\n",
    "    start: 1\n",
    "    end: -1\n",
    "    step: 1\n",
    "    mask: c-alpha\n",
    "    reference: first"
   ]
  },
  {
   "cell_type": "markdown",
   "metadata": {},
   "source": [
    "Command:"
   ]
  },
  {
   "cell_type": "code",
   "execution_count": null,
   "metadata": {},
   "outputs": [],
   "source": [
    "cpptraj_bfactor --config data/conf/bfactor.yml --input_top_path data/input/cpptraj.parm.top --input_traj_path data/input/cpptraj.traj.dcd --output_cpptraj_path data/output/output.bfactor.dat"
   ]
  },
  {
   "cell_type": "markdown",
   "metadata": {},
   "source": [
    "### JSON file config"
   ]
  },
  {
   "cell_type": "markdown",
   "metadata": {},
   "source": [
    "bfactor.json:"
   ]
  },
  {
   "cell_type": "code",
   "execution_count": null,
   "metadata": {},
   "outputs": [],
   "source": [
    "{\n",
    "  \"properties\": {\n",
    "    \"in_parameters\": {\n",
    "      \"start\": 1,\n",
    "      \"end\": -1,\n",
    "      \"step\": 1,\n",
    "      \"mask\": \"c-alpha\",\n",
    "      \"reference\": \"first\"\n",
    "    }\n",
    "  }\n",
    "}"
   ]
  },
  {
   "cell_type": "markdown",
   "metadata": {},
   "source": [
    "Command:"
   ]
  },
  {
   "cell_type": "code",
   "execution_count": null,
   "metadata": {},
   "outputs": [],
   "source": [
    "cpptraj_bfactor --config data/conf/bfactor.json --input_top_path data/input/cpptraj.parm.top --input_traj_path data/input/cpptraj.traj.dcd --output_cpptraj_path data/output/output.average.dat"
   ]
  },
  {
   "cell_type": "markdown",
   "metadata": {},
   "source": [
    "## Cpptraj convert"
   ]
  },
  {
   "cell_type": "markdown",
   "metadata": {},
   "source": [
    "Wrapper of the Ambertools Cpptraj module. Converting trajectory format."
   ]
  },
  {
   "cell_type": "markdown",
   "metadata": {},
   "source": [
    "### Get help"
   ]
  },
  {
   "cell_type": "markdown",
   "metadata": {},
   "source": [
    "Command:"
   ]
  },
  {
   "cell_type": "code",
   "execution_count": null,
   "metadata": {},
   "outputs": [],
   "source": [
    "cpptraj_convert -h"
   ]
  },
  {
   "cell_type": "code",
   "execution_count": null,
   "metadata": {},
   "outputs": [],
   "source": [
    "usage: cpptraj_convert [-h] [--config CONFIG] [--system SYSTEM] [--step STEP] --input_top_path INPUT_TOP_PATH --input_traj_path INPUT_TRAJ_PATH --output_cpptraj_path OUTPUT_CPPTRAJ_PATH\n",
    "\n",
    "Wrapper of the Ambertools Cpptraj module. Converting trajectory format.\n",
    "\n",
    "optional arguments:\n",
    "  -h, --help            show this help message and exit\n",
    "  --config CONFIG       Configuration file\n",
    "  --system SYSTEM       Check 'https://biobb-common.readthedocs.io/en/latest/system_step.html' for help\n",
    "  --step STEP           Check 'https://biobb-common.readthedocs.io/en/latest/system_step.html' for help\n",
    "\n",
    "required arguments:\n",
    "  --input_top_path INPUT_TOP_PATH\n",
    "                        Path to the input structure or topology file. Accepted formats: top, pdb, prmtop, parmtop, zip.\n",
    "  --input_traj_path INPUT_TRAJ_PATH\n",
    "                        Path to the input trajectory to be processed. Accepted formats: crd, cdf, netcdf, restart, ncrestart, restartnc, dcd, charmm, cor, pdb, mol2, trr, gro, binpos, xtc, cif, arc, sqm, sdf, conflib.\n",
    "  --output_cpptraj_path OUTPUT_CPPTRAJ_PATH\n",
    "                        Path to the output processed structure."
   ]
  },
  {
   "cell_type": "markdown",
   "metadata": {},
   "source": [
    "### I / O Arguments"
   ]
  },
  {
   "cell_type": "markdown",
   "metadata": {},
   "source": [
    "Syntax: input_argument (datatype) : Definition\n",
    "\n",
    "Config input / output arguments for this building block:\n",
    "\n",
    "* **input_top_path** (*str*): Path to the input structure or topology file. Accepted formats: top, pdb, prmtop, parmtop, zip.\n",
    "* **input_traj_path** (*str*): Path to the input trajectory to be processed. Accepted formats: crd, cdf, netcdf, restart, ncrestart, restartnc, dcd, charmm, cor, pdb, mol2, trr, gro, binpos, xtc, cif, arc, sqm, sdf, conflib.\n",
    "* **output_cpptraj_path** (*str*): Path to the output processed structure."
   ]
  },
  {
   "cell_type": "markdown",
   "metadata": {},
   "source": [
    "### Config"
   ]
  },
  {
   "cell_type": "markdown",
   "metadata": {},
   "source": [
    "Syntax: input_parameter (datatype) - (default_value) Definition\n",
    "\n",
    "Config parameters for this building block:\n",
    "\n",
    "* **in_parameters** (*dict*) - (None) Parameters for input trajectory. Accepted parameters:\n",
    "    * **start** (*int*) - (1) Starting frame for slicing\n",
    "    * **end** (*int*) - (-1) Ending frame for slicing\n",
    "    * **step** (*int*) - (1) Step for slicing\n",
    "    * **mask** (*string*) - (\"all-atoms\") Mask definition. Values: c-alpha, backbone, all-atoms, heavy-atoms, side-chain, solute, ions, solvent.\n",
    "* **out_parameters** (*dict*) - (None) Parameters for output trajectory.\n",
    "    * **format** (*str*) - (\"netcdf\") Output trajectory format. Values: crd, cdf, netcdf, restart, ncrestart, restartnc, dcd, charmm, cor, pdb, mol2, trr, gro, binpos, xtc, cif, arc, sqm, sdf, conflib.\n",
    "* **cpptraj_path** (*str*) - (\"cpptraj\") Path to the cpptraj executable binary."
   ]
  },
  {
   "cell_type": "markdown",
   "metadata": {},
   "source": [
    "### YAML file config"
   ]
  },
  {
   "cell_type": "markdown",
   "metadata": {},
   "source": [
    "convert.yml:"
   ]
  },
  {
   "cell_type": "code",
   "execution_count": null,
   "metadata": {},
   "outputs": [],
   "source": [
    "properties:\n",
    "  in_parameters:\n",
    "    start: 1\n",
    "    end: -1\n",
    "    step: 1\n",
    "    mask: c-alpha\n",
    "  out_parameters:\n",
    "    format: netcdf"
   ]
  },
  {
   "cell_type": "markdown",
   "metadata": {},
   "source": [
    "Command:"
   ]
  },
  {
   "cell_type": "code",
   "execution_count": null,
   "metadata": {},
   "outputs": [],
   "source": [
    "cpptraj_convert --config data/conf/convert.yml --input_top_path data/input/cpptraj.parm.top --input_traj_path data/input/cpptraj.traj.dcd --output_cpptraj_path data/output/output.convert.netcdf"
   ]
  },
  {
   "cell_type": "markdown",
   "metadata": {},
   "source": [
    "### JSON file config"
   ]
  },
  {
   "cell_type": "markdown",
   "metadata": {},
   "source": [
    "convert.json:"
   ]
  },
  {
   "cell_type": "code",
   "execution_count": null,
   "metadata": {},
   "outputs": [],
   "source": [
    "{\n",
    "  \"properties\": {\n",
    "    \"in_parameters\": {\n",
    "      \"start\": 1,\n",
    "      \"end\": -1,\n",
    "      \"step\": 1,\n",
    "      \"mask\": \"c-alpha\"\n",
    "    },\n",
    "    \"out_parameters\": {\n",
    "      \"format\": \"netcdf\"\n",
    "    }\n",
    "  }\n",
    "}"
   ]
  },
  {
   "cell_type": "markdown",
   "metadata": {},
   "source": [
    "Command:"
   ]
  },
  {
   "cell_type": "code",
   "execution_count": null,
   "metadata": {},
   "outputs": [],
   "source": [
    "cpptraj_convert --config data/conf/convert.json --input_top_path data/input/cpptraj.parm.top --input_traj_path data/input/cpptraj.traj.dcd --output_cpptraj_path data/output/output.convert.netcdf"
   ]
  },
  {
   "cell_type": "markdown",
   "metadata": {},
   "source": [
    "## Cpptraj dry"
   ]
  },
  {
   "cell_type": "markdown",
   "metadata": {},
   "source": [
    "Wrapper of the Ambertools Cpptraj module. Calculating dry structure."
   ]
  },
  {
   "cell_type": "markdown",
   "metadata": {},
   "source": [
    "### Get help"
   ]
  },
  {
   "cell_type": "markdown",
   "metadata": {},
   "source": [
    "Command:"
   ]
  },
  {
   "cell_type": "code",
   "execution_count": null,
   "metadata": {},
   "outputs": [],
   "source": [
    "cpptraj_dry -h"
   ]
  },
  {
   "cell_type": "code",
   "execution_count": null,
   "metadata": {},
   "outputs": [],
   "source": [
    "usage: cpptraj_dry [-h] [--config CONFIG] [--system SYSTEM] [--step STEP] --input_top_path INPUT_TOP_PATH --input_traj_path INPUT_TRAJ_PATH --output_cpptraj_path OUTPUT_CPPTRAJ_PATH\n",
    "\n",
    "Wrapper of the Ambertools Cpptraj module. Calculating dry structure.\n",
    "\n",
    "optional arguments:\n",
    "  -h, --help            show this help message and exit\n",
    "  --config CONFIG       Configuration file\n",
    "  --system SYSTEM       Check 'https://biobb-common.readthedocs.io/en/latest/system_step.html' for help\n",
    "  --step STEP           Check 'https://biobb-common.readthedocs.io/en/latest/system_step.html' for help\n",
    "\n",
    "required arguments:\n",
    "  --input_top_path INPUT_TOP_PATH\n",
    "                        Path to the input structure or topology file. Accepted formats: top, pdb, prmtop, parmtop, zip.\n",
    "  --input_traj_path INPUT_TRAJ_PATH\n",
    "                        Path to the input trajectory to be processed. Accepted formats: crd, cdf, netcdf, restart, ncrestart, restartnc, dcd, charmm, cor, pdb, mol2, trr, gro, binpos, xtc, cif, arc, sqm, sdf, conflib.\n",
    "  --output_cpptraj_path OUTPUT_CPPTRAJ_PATH\n",
    "                        Path to the output processed trajectory."
   ]
  },
  {
   "cell_type": "markdown",
   "metadata": {},
   "source": [
    "### I / O Arguments"
   ]
  },
  {
   "cell_type": "markdown",
   "metadata": {},
   "source": [
    "Syntax: input_argument (datatype) : Definition\n",
    "\n",
    "Config input / output arguments for this building block:\n",
    "\n",
    "* **input_top_path** (*str*): Path to the input structure or topology file. Accepted formats: top, pdb, prmtop, parmtop, zip.\n",
    "* **input_traj_path** (*str*): Path to the input trajectory to be processed. Accepted formats: crd, cdf, netcdf, restart, ncrestart, restartnc, dcd, charmm, cor, pdb, mol2, trr, gro, binpos, xtc, cif, arc, sqm, sdf, conflib.\n",
    "* **output_cpptraj_path** (*str*): Path to the output processed trajectory."
   ]
  },
  {
   "cell_type": "markdown",
   "metadata": {},
   "source": [
    "### Config"
   ]
  },
  {
   "cell_type": "markdown",
   "metadata": {},
   "source": [
    "Syntax: input_parameter (datatype) - (default_value) Definition\n",
    "\n",
    "Config parameters for this building block:\n",
    "\n",
    "* **in_parameters** (*dict*) - (None) Parameters for input trajectory. Accepted parameters:\n",
    "    * **start** (*int*) - (1) Starting frame for slicing\n",
    "    * **end** (*int*) - (-1) Ending frame for slicing\n",
    "    * **step** (*int*) - (1) Step for slicing\n",
    "    * **mask** (*string*) - (\"all-atoms\") Mask definition. Values: c-alpha, backbone, all-atoms, heavy-atoms, side-chain, solute, ions, solvent.\n",
    "* **out_parameters** (*dict*) - (None) Parameters for output trajectory.\n",
    "    * **format** (*str*) - (\"netcdf\") Output trajectory format. Values: crd, cdf, netcdf, restart, ncrestart, restartnc, dcd, charmm, cor, pdb, mol2, trr, gro, binpos, xtc, cif, arc, sqm, sdf, conflib.\n",
    "* **cpptraj_path** (*str*) - (\"cpptraj\") Path to the cpptraj executable binary."
   ]
  },
  {
   "cell_type": "markdown",
   "metadata": {},
   "source": [
    "### YAML file config"
   ]
  },
  {
   "cell_type": "markdown",
   "metadata": {},
   "source": [
    "dry.yml:"
   ]
  },
  {
   "cell_type": "code",
   "execution_count": null,
   "metadata": {},
   "outputs": [],
   "source": [
    "properties:\n",
    "  in_parameters:\n",
    "    start: 1\n",
    "    end: -1\n",
    "    step: 1\n",
    "    mask: c-alpha\n",
    "  out_parameters:\n",
    "    format: netcdf"
   ]
  },
  {
   "cell_type": "markdown",
   "metadata": {},
   "source": [
    "Command:"
   ]
  },
  {
   "cell_type": "code",
   "execution_count": null,
   "metadata": {},
   "outputs": [],
   "source": [
    "cpptraj_dry --config data/conf/dry.yml --input_top_path data/input/cpptraj.parm.top --input_traj_path data/input/cpptraj.traj.dcd --output_cpptraj_path data/output/output.dry.netcdf"
   ]
  },
  {
   "cell_type": "markdown",
   "metadata": {},
   "source": [
    "### JSON file config"
   ]
  },
  {
   "cell_type": "markdown",
   "metadata": {},
   "source": [
    "dry.json:"
   ]
  },
  {
   "cell_type": "code",
   "execution_count": null,
   "metadata": {},
   "outputs": [],
   "source": [
    "{\n",
    "  \"properties\": {\n",
    "    \"in_parameters\": {\n",
    "      \"start\": 1,\n",
    "      \"end\": -1,\n",
    "      \"step\": 1,\n",
    "      \"mask\": \"c-alpha\"\n",
    "    },\n",
    "    \"out_parameters\": {\n",
    "      \"format\": \"netcdf\"\n",
    "    }\n",
    "  }\n",
    "}"
   ]
  },
  {
   "cell_type": "markdown",
   "metadata": {},
   "source": [
    "Command:"
   ]
  },
  {
   "cell_type": "code",
   "execution_count": null,
   "metadata": {},
   "outputs": [],
   "source": [
    "cpptraj_dry --config data/conf/dry.json --input_top_path data/input/cpptraj.parm.top --input_traj_path data/input/cpptraj.traj.dcd --output_cpptraj_path data/output/output.dry.netcdf"
   ]
  },
  {
   "cell_type": "markdown",
   "metadata": {},
   "source": [
    "## Cpptraj image"
   ]
  },
  {
   "cell_type": "markdown",
   "metadata": {},
   "source": [
    "Wrapper of the Ambertools Cpptraj module. Calculating image."
   ]
  },
  {
   "cell_type": "markdown",
   "metadata": {},
   "source": [
    "### Get help"
   ]
  },
  {
   "cell_type": "markdown",
   "metadata": {},
   "source": [
    "Command:"
   ]
  },
  {
   "cell_type": "code",
   "execution_count": null,
   "metadata": {},
   "outputs": [],
   "source": [
    "cpptraj_image -h"
   ]
  },
  {
   "cell_type": "code",
   "execution_count": null,
   "metadata": {},
   "outputs": [],
   "source": [
    "usage: cpptraj_image [-h] [--config CONFIG] [--system SYSTEM] [--step STEP] --input_top_path INPUT_TOP_PATH --input_traj_path INPUT_TRAJ_PATH --output_cpptraj_path OUTPUT_CPPTRAJ_PATH\n",
    "\n",
    "Wrapper of the Ambertools Cpptraj module. Calculating image.\n",
    "\n",
    "optional arguments:\n",
    "  -h, --help            show this help message and exit\n",
    "  --config CONFIG       Configuration file\n",
    "  --system SYSTEM       Check 'https://biobb-common.readthedocs.io/en/latest/system_step.html' for help\n",
    "  --step STEP           Check 'https://biobb-common.readthedocs.io/en/latest/system_step.html' for help\n",
    "\n",
    "required arguments:\n",
    "  --input_top_path INPUT_TOP_PATH\n",
    "                        Path to the input structure or topology file. Accepted formats: top, pdb, prmtop, parmtop, zip.\n",
    "  --input_traj_path INPUT_TRAJ_PATH\n",
    "                        Path to the input trajectory to be processed. Accepted formats: crd, cdf, netcdf, restart, ncrestart, restartnc, dcd, charmm, cor, pdb, mol2, trr, gro, binpos, xtc, cif, arc, sqm, sdf, conflib.\n",
    "  --output_cpptraj_path OUTPUT_CPPTRAJ_PATH\n",
    "                        Path to the output processed trajectory."
   ]
  },
  {
   "cell_type": "markdown",
   "metadata": {},
   "source": [
    "### I / O Arguments"
   ]
  },
  {
   "cell_type": "markdown",
   "metadata": {},
   "source": [
    "Syntax: input_argument (datatype) : Definition\n",
    "\n",
    "Config input / output arguments for this building block:\n",
    "\n",
    "* **input_top_path** (*str*): Path to the input structure or topology file. Accepted formats: top, pdb, prmtop, parmtop, zip.\n",
    "* **input_traj_path** (*str*): Path to the input trajectory to be processed. Accepted formats: crd, cdf, netcdf, restart, ncrestart, restartnc, dcd, charmm, cor, pdb, mol2, trr, gro, binpos, xtc, cif, arc, sqm, sdf, conflib.\n",
    "* **output_cpptraj_path** (*str*): Path to the output processed trajectory."
   ]
  },
  {
   "cell_type": "markdown",
   "metadata": {},
   "source": [
    "### Config"
   ]
  },
  {
   "cell_type": "markdown",
   "metadata": {},
   "source": [
    "Syntax: input_parameter (datatype) - (default_value) Definition\n",
    "\n",
    "Config parameters for this building block:\n",
    "\n",
    "* **in_parameters** (*dict*) - (None) Parameters for input trajectory. Accepted parameters:\n",
    "    * **start** (*int*) - (1) Starting frame for slicing\n",
    "    * **end** (*int*) - (-1) Ending frame for slicing\n",
    "    * **step** (*int*) - (1) Step for slicing\n",
    "    * **mask** (*string*) - (\"all-atoms\") Mask definition. Values: c-alpha, backbone, all-atoms, heavy-atoms, side-chain, solute, ions, solvent.\n",
    "* **out_parameters** (*dict*) - (None) Parameters for output trajectory.\n",
    "    * **format** (*str*) - (\"netcdf\") Output trajectory format. Values: crd, cdf, netcdf, restart, ncrestart, restartnc, dcd, charmm, cor, pdb, mol2, trr, gro, binpos, xtc, cif, arc, sqm, sdf, conflib.\n",
    "* **cpptraj_path** (*str*) - (\"cpptraj\") Path to the cpptraj executable binary."
   ]
  },
  {
   "cell_type": "markdown",
   "metadata": {},
   "source": [
    "### YAML file config"
   ]
  },
  {
   "cell_type": "markdown",
   "metadata": {},
   "source": [
    "image.yml:"
   ]
  },
  {
   "cell_type": "code",
   "execution_count": null,
   "metadata": {},
   "outputs": [],
   "source": [
    "properties:\n",
    "  in_parameters:\n",
    "    start: 1\n",
    "    end: -1\n",
    "    step: 1\n",
    "    mask: c-alpha\n",
    "  out_parameters:\n",
    "    format: netcdf"
   ]
  },
  {
   "cell_type": "markdown",
   "metadata": {},
   "source": [
    "Command:"
   ]
  },
  {
   "cell_type": "code",
   "execution_count": null,
   "metadata": {},
   "outputs": [],
   "source": [
    "cpptraj_image --config data/conf/image.yml --input_top_path data/input/cpptraj.parm.top --input_traj_path data/input/cpptraj.traj.dcd --output_cpptraj_path data/output/output.image.netcdf"
   ]
  },
  {
   "cell_type": "markdown",
   "metadata": {},
   "source": [
    "### JSON file config"
   ]
  },
  {
   "cell_type": "markdown",
   "metadata": {},
   "source": [
    "image.json:"
   ]
  },
  {
   "cell_type": "code",
   "execution_count": null,
   "metadata": {},
   "outputs": [],
   "source": [
    "{\n",
    "  \"properties\": {\n",
    "    \"in_parameters\": {\n",
    "      \"start\": 1,\n",
    "      \"end\": -1,\n",
    "      \"step\": 1,\n",
    "      \"mask\": \"c-alpha\"\n",
    "    },\n",
    "    \"out_parameters\": {\n",
    "      \"format\": \"netcdf\"\n",
    "    }\n",
    "  }\n",
    "}"
   ]
  },
  {
   "cell_type": "markdown",
   "metadata": {},
   "source": [
    "Command:"
   ]
  },
  {
   "cell_type": "code",
   "execution_count": null,
   "metadata": {},
   "outputs": [],
   "source": [
    "cpptraj_image --config data/conf/image.json --input_top_path data/input/cpptraj.parm.top --input_traj_path data/input/cpptraj.traj.dcd --output_cpptraj_path data/output/output.image.netcdf"
   ]
  },
  {
   "cell_type": "markdown",
   "metadata": {},
   "source": [
    "## Cpptraj input"
   ]
  },
  {
   "cell_type": "markdown",
   "metadata": {},
   "source": [
    "Wrapper of the Ambertools Cpptraj module. Performing any Cpptraj operation from a given instructions file."
   ]
  },
  {
   "cell_type": "markdown",
   "metadata": {},
   "source": [
    "### Get help"
   ]
  },
  {
   "cell_type": "markdown",
   "metadata": {},
   "source": [
    "Command:"
   ]
  },
  {
   "cell_type": "code",
   "execution_count": null,
   "metadata": {},
   "outputs": [],
   "source": [
    "cpptraj_input -h"
   ]
  },
  {
   "cell_type": "code",
   "execution_count": null,
   "metadata": {},
   "outputs": [],
   "source": [
    "usage: cpptraj_input [-h] [--config CONFIG] [--system SYSTEM] [--step STEP] --input_instructions_path INPUT_INSTRUCTIONS_PATH\n",
    "\n",
    "Wrapper of the Ambertools Cpptraj module. Performing any Cpptraj operation from a given instructions file.\n",
    "\n",
    "optional arguments:\n",
    "  -h, --help            show this help message and exit\n",
    "  --config CONFIG       Configuration file\n",
    "  --system SYSTEM       Check 'https://biobb-common.readthedocs.io/en/latest/system_step.html' for help\n",
    "  --step STEP           Check 'https://biobb-common.readthedocs.io/en/latest/system_step.html' for help\n",
    "\n",
    "required arguments:\n",
    "  --input_instructions_path INPUT_INSTRUCTIONS_PATH\n",
    "                        Path of the instructions file."
   ]
  },
  {
   "cell_type": "markdown",
   "metadata": {},
   "source": [
    "### I / O Arguments"
   ]
  },
  {
   "cell_type": "markdown",
   "metadata": {},
   "source": [
    "Syntax: input_argument (datatype) : Definition\n",
    "\n",
    "Config input / output arguments for this building block:\n",
    "\n",
    "* **input_instructions_path** (*str*): Path of the instructions file."
   ]
  },
  {
   "cell_type": "markdown",
   "metadata": {},
   "source": [
    "### Config"
   ]
  },
  {
   "cell_type": "markdown",
   "metadata": {},
   "source": [
    "Syntax: input_parameter (datatype) - (default_value) Definition\n",
    "\n",
    "Config parameters for this building block:\n",
    "\n",
    "* **cpptraj_path** (*str*) - (\"cpptraj\") Path to the cpptraj executable binary."
   ]
  },
  {
   "cell_type": "markdown",
   "metadata": {},
   "source": [
    "### Instructions file"
   ]
  },
  {
   "cell_type": "markdown",
   "metadata": {},
   "source": [
    "input.in:"
   ]
  },
  {
   "cell_type": "code",
   "execution_count": null,
   "metadata": {},
   "outputs": [],
   "source": [
    "parm data/input/cpptraj.convert.pdb\n",
    "trajin data/input/cpptraj.convert.dcd\n",
    "trajout data/output/output.netcdf netcdf"
   ]
  },
  {
   "cell_type": "markdown",
   "metadata": {},
   "source": [
    "### YAML file config"
   ]
  },
  {
   "cell_type": "markdown",
   "metadata": {},
   "source": [
    "input.yml:"
   ]
  },
  {
   "cell_type": "code",
   "execution_count": null,
   "metadata": {},
   "outputs": [],
   "source": [
    "properties:\n",
    "  cpptraj_path: cpptraj"
   ]
  },
  {
   "cell_type": "markdown",
   "metadata": {},
   "source": [
    "Command:"
   ]
  },
  {
   "cell_type": "code",
   "execution_count": null,
   "metadata": {},
   "outputs": [],
   "source": [
    "cpptraj_input --config data/conf/input.yml --input_instructions_path data/input/input.in"
   ]
  },
  {
   "cell_type": "markdown",
   "metadata": {},
   "source": [
    "### JSON file config"
   ]
  },
  {
   "cell_type": "markdown",
   "metadata": {},
   "source": [
    "image.json:"
   ]
  },
  {
   "cell_type": "code",
   "execution_count": null,
   "metadata": {},
   "outputs": [],
   "source": [
    "{\n",
    "  \"properties\": {\n",
    "    \"cpptraj_path\": \"cpptraj\"\n",
    "  }\n",
    "}"
   ]
  },
  {
   "cell_type": "markdown",
   "metadata": {},
   "source": [
    "Command:"
   ]
  },
  {
   "cell_type": "code",
   "execution_count": null,
   "metadata": {},
   "outputs": [],
   "source": [
    "cpptraj_input --config data/conf/input.json --input_instructions_path data/input/input.in"
   ]
  },
  {
   "cell_type": "markdown",
   "metadata": {},
   "source": [
    "## Cpptraj mask"
   ]
  },
  {
   "cell_type": "markdown",
   "metadata": {},
   "source": [
    "Wrapper of the Ambertools Cpptraj module. Masking a trajectory."
   ]
  },
  {
   "cell_type": "markdown",
   "metadata": {},
   "source": [
    "### Get help"
   ]
  },
  {
   "cell_type": "markdown",
   "metadata": {},
   "source": [
    "Command:"
   ]
  },
  {
   "cell_type": "code",
   "execution_count": null,
   "metadata": {},
   "outputs": [],
   "source": [
    "cpptraj_mask -h"
   ]
  },
  {
   "cell_type": "code",
   "execution_count": null,
   "metadata": {},
   "outputs": [],
   "source": [
    "usage: cpptraj_mask [-h] [--config CONFIG] [--system SYSTEM] [--step STEP] --input_top_path INPUT_TOP_PATH --input_traj_path INPUT_TRAJ_PATH --output_cpptraj_path OUTPUT_CPPTRAJ_PATH\n",
    "\n",
    "Wrapper of the Ambertools Cpptraj module. Masking a trajectory.\n",
    "\n",
    "optional arguments:\n",
    "  -h, --help            show this help message and exit\n",
    "  --config CONFIG       Configuration file\n",
    "  --system SYSTEM       Check 'https://biobb-common.readthedocs.io/en/latest/system_step.html' for help\n",
    "  --step STEP           Check 'https://biobb-common.readthedocs.io/en/latest/system_step.html' for help\n",
    "\n",
    "required arguments:\n",
    "  --input_top_path INPUT_TOP_PATH\n",
    "                        Path to the input structure or topology file. Accepted formats: top, pdb, prmtop, parmtop, zip.\n",
    "  --input_traj_path INPUT_TRAJ_PATH\n",
    "                        Path to the input trajectory to be processed. Accepted formats: crd, cdf, netcdf, restart, ncrestart, restartnc, dcd, charmm, cor, pdb, mol2, trr, gro, binpos, xtc, cif, arc, sqm, sdf, conflib.\n",
    "  --output_cpptraj_path OUTPUT_CPPTRAJ_PATH\n",
    "                        Path to the output processed trajectory."
   ]
  },
  {
   "cell_type": "markdown",
   "metadata": {},
   "source": [
    "### I / O Arguments"
   ]
  },
  {
   "cell_type": "markdown",
   "metadata": {},
   "source": [
    "Syntax: input_argument (datatype) : Definition\n",
    "\n",
    "Config input / output arguments for this building block:\n",
    "\n",
    "* **input_top_path** (*str*): Path to the input structure or topology file. Accepted formats: top, pdb, prmtop, parmtop, zip.\n",
    "* **input_traj_path** (*str*): Path to the input trajectory to be processed. Accepted formats: crd, cdf, netcdf, restart, ncrestart, restartnc, dcd, charmm, cor, pdb, mol2, trr, gro, binpos, xtc, cif, arc, sqm, sdf, conflib.\n",
    "* **output_cpptraj_path** (*str*): Path to the output processed trajectory."
   ]
  },
  {
   "cell_type": "markdown",
   "metadata": {},
   "source": [
    "### Config"
   ]
  },
  {
   "cell_type": "markdown",
   "metadata": {},
   "source": [
    "Syntax: input_parameter (datatype) - (default_value) Definition\n",
    "\n",
    "Config parameters for this building block:\n",
    "\n",
    "* **in_parameters** (*dict*) - (None) Parameters for input trajectory. Accepted parameters:\n",
    "    * **start** (*int*) - (1) Starting frame for slicing\n",
    "    * **end** (*int*) - (-1) Ending frame for slicing\n",
    "    * **step** (*int*) - (1) Step for slicing\n",
    "    * **mask** (*string*) - (\"all-atoms\") Mask definition. Values: c-alpha, backbone, all-atoms, heavy-atoms, side-chain, solute, ions, solvent.\n",
    "* **out_parameters** (*dict*) - (None) Parameters for output trajectory.\n",
    "    * **format** (*str*) - (\"netcdf\") Output trajectory format. Values: crd, cdf, netcdf, restart, ncrestart, restartnc, dcd, charmm, cor, pdb, mol2, trr, gro, binpos, xtc, cif, arc, sqm, sdf, conflib.\n",
    "* **cpptraj_path** (*str*) - (\"cpptraj\") Path to the cpptraj executable binary."
   ]
  },
  {
   "cell_type": "markdown",
   "metadata": {},
   "source": [
    "### YAML file config"
   ]
  },
  {
   "cell_type": "markdown",
   "metadata": {},
   "source": [
    "mask.yml:"
   ]
  },
  {
   "cell_type": "code",
   "execution_count": null,
   "metadata": {},
   "outputs": [],
   "source": [
    "properties:\n",
    "  in_parameters:\n",
    "    start: 1\n",
    "    end: -1\n",
    "    step: 1\n",
    "    mask: c-alpha\n",
    "  out_parameters:\n",
    "    format: netcdf"
   ]
  },
  {
   "cell_type": "markdown",
   "metadata": {},
   "source": [
    "Command:"
   ]
  },
  {
   "cell_type": "code",
   "execution_count": null,
   "metadata": {},
   "outputs": [],
   "source": [
    "cpptraj_mask --config data/conf/mask.yml --input_top_path data/input/cpptraj.parm.top --input_traj_path data/input/cpptraj.traj.dcd --output_cpptraj_path data/output/output.mask.netcdf"
   ]
  },
  {
   "cell_type": "markdown",
   "metadata": {},
   "source": [
    "### JSON file config"
   ]
  },
  {
   "cell_type": "markdown",
   "metadata": {},
   "source": [
    "mask.json:"
   ]
  },
  {
   "cell_type": "code",
   "execution_count": null,
   "metadata": {},
   "outputs": [],
   "source": [
    "{\n",
    "  \"properties\": {\n",
    "    \"in_parameters\": {\n",
    "      \"start\": 1,\n",
    "      \"end\": -1,\n",
    "      \"step\": 1,\n",
    "      \"mask\": \"c-alpha\"\n",
    "    },\n",
    "    \"out_parameters\": {\n",
    "      \"format\": \"netcdf\"\n",
    "    }\n",
    "  }\n",
    "}"
   ]
  },
  {
   "cell_type": "markdown",
   "metadata": {},
   "source": [
    "Command:"
   ]
  },
  {
   "cell_type": "code",
   "execution_count": null,
   "metadata": {},
   "outputs": [],
   "source": [
    "cpptraj_mask --config data/conf/mask.json --input_top_path data/input/cpptraj.parm.top --input_traj_path data/input/cpptraj.traj.dcd --output_cpptraj_path data/output/output.image.netcdf"
   ]
  },
  {
   "cell_type": "markdown",
   "metadata": {},
   "source": [
    "## Cpptraj rgyr"
   ]
  },
  {
   "cell_type": "markdown",
   "metadata": {},
   "source": [
    "Wrapper of the Ambertools Cpptraj module. Calculating Rgyr analysis."
   ]
  },
  {
   "cell_type": "markdown",
   "metadata": {},
   "source": [
    "### Get help"
   ]
  },
  {
   "cell_type": "markdown",
   "metadata": {},
   "source": [
    "Command:"
   ]
  },
  {
   "cell_type": "code",
   "execution_count": null,
   "metadata": {},
   "outputs": [],
   "source": [
    "cpptraj_rgyr -h"
   ]
  },
  {
   "cell_type": "code",
   "execution_count": null,
   "metadata": {},
   "outputs": [],
   "source": [
    "usage: cpptraj_rgyr [-h] [--config CONFIG] [--system SYSTEM] [--step STEP] --input_top_path INPUT_TOP_PATH --input_traj_path INPUT_TRAJ_PATH --output_cpptraj_path OUTPUT_CPPTRAJ_PATH\n",
    "\n",
    "Wrapper of the Ambertools Cpptraj module. Calculating Rgyr analysis.\n",
    "\n",
    "optional arguments:\n",
    "  -h, --help            show this help message and exit\n",
    "  --config CONFIG       Configuration file\n",
    "  --system SYSTEM       Check 'https://biobb-common.readthedocs.io/en/latest/system_step.html' for help\n",
    "  --step STEP           Check 'https://biobb-common.readthedocs.io/en/latest/system_step.html' for help\n",
    "\n",
    "required arguments:\n",
    "  --input_top_path INPUT_TOP_PATH\n",
    "                        Path to the input structure or topology file. Accepted formats: top, pdb, prmtop, parmtop, zip.\n",
    "  --input_traj_path INPUT_TRAJ_PATH\n",
    "                        Path to the input trajectory to be processed. Accepted formats: crd, cdf, netcdf, restart, ncrestart, restartnc, dcd, charmm, cor, pdb, mol2, trr, gro, binpos, xtc, cif, arc, sqm, sdf, conflib.\n",
    "  --output_cpptraj_path OUTPUT_CPPTRAJ_PATH\n",
    "                        Path to the output analysis."
   ]
  },
  {
   "cell_type": "markdown",
   "metadata": {},
   "source": [
    "### I / O Arguments"
   ]
  },
  {
   "cell_type": "markdown",
   "metadata": {},
   "source": [
    "Syntax: input_argument (datatype) : Definition\n",
    "\n",
    "Config input / output arguments for this building block:\n",
    "\n",
    "* **input_top_path** (*str*): Path to the input structure or topology file. Accepted formats: top, pdb, prmtop, parmtop, zip.\n",
    "* **input_traj_path** (*str*): Path to the input trajectory to be processed. Accepted formats: crd, cdf, netcdf, restart, ncrestart, restartnc, dcd, charmm, cor, pdb, mol2, trr, gro, binpos, xtc, cif, arc, sqm, sdf, conflib.\n",
    "* **output_cpptraj_path** (*str*): Path to the output processed analysis."
   ]
  },
  {
   "cell_type": "markdown",
   "metadata": {},
   "source": [
    "### Config"
   ]
  },
  {
   "cell_type": "markdown",
   "metadata": {},
   "source": [
    "Syntax: input_parameter (datatype) - (default_value) Definition\n",
    "\n",
    "Config parameters for this building block:\n",
    "\n",
    "* **in_parameters** (*dict*) - (None) Parameters for input trajectory. Accepted parameters:\n",
    "    * **start** (*int*) - (1) Starting frame for slicing\n",
    "    * **end** (*int*) - (-1) Ending frame for slicing\n",
    "    * **step** (*int*) - (1) Step for slicing\n",
    "    * **mask** (*string*) - (\"all-atoms\") Mask definition. Values: c-alpha, backbone, all-atoms, heavy-atoms, side-chain, solute, ions, solvent.\n",
    "* **cpptraj_path** (*str*) - (\"cpptraj\") Path to the cpptraj executable binary."
   ]
  },
  {
   "cell_type": "markdown",
   "metadata": {},
   "source": [
    "### YAML file config"
   ]
  },
  {
   "cell_type": "markdown",
   "metadata": {},
   "source": [
    "rgyr.yml:"
   ]
  },
  {
   "cell_type": "code",
   "execution_count": null,
   "metadata": {},
   "outputs": [],
   "source": [
    "properties:\n",
    "  in_parameters:\n",
    "    start: 1\n",
    "    end: -1\n",
    "    step: 1\n",
    "    mask: c-alpha"
   ]
  },
  {
   "cell_type": "markdown",
   "metadata": {},
   "source": [
    "Command:"
   ]
  },
  {
   "cell_type": "code",
   "execution_count": null,
   "metadata": {},
   "outputs": [],
   "source": [
    "cpptraj_rgyr --config data/conf/rgyr.yml --input_top_path data/input/cpptraj.parm.top --input_traj_path data/input/cpptraj.traj.dcd --output_cpptraj_path data/output/output.rgyr.dat"
   ]
  },
  {
   "cell_type": "markdown",
   "metadata": {},
   "source": [
    "### JSON file config"
   ]
  },
  {
   "cell_type": "markdown",
   "metadata": {},
   "source": [
    "rgyr.json:"
   ]
  },
  {
   "cell_type": "code",
   "execution_count": null,
   "metadata": {},
   "outputs": [],
   "source": [
    "{\n",
    "  \"properties\": {\n",
    "    \"in_parameters\": {\n",
    "      \"start\": 1,\n",
    "      \"end\": -1,\n",
    "      \"step\": 1,\n",
    "      \"mask\": \"c-alpha\"\n",
    "    }\n",
    "  }\n",
    "}"
   ]
  },
  {
   "cell_type": "markdown",
   "metadata": {},
   "source": [
    "Command:"
   ]
  },
  {
   "cell_type": "code",
   "execution_count": null,
   "metadata": {},
   "outputs": [],
   "source": [
    "cpptraj_rgyr --config data/conf/rgyr.json --input_top_path data/input/cpptraj.parm.top --input_traj_path data/input/cpptraj.traj.dcd --output_cpptraj_path data/output/output.rgyr.dat"
   ]
  },
  {
   "cell_type": "markdown",
   "metadata": {},
   "source": [
    "## Cpptraj rms"
   ]
  },
  {
   "cell_type": "markdown",
   "metadata": {},
   "source": [
    "Wrapper of the Ambertools Cpptraj module. Calculating Rms analysis."
   ]
  },
  {
   "cell_type": "markdown",
   "metadata": {},
   "source": [
    "### Get help"
   ]
  },
  {
   "cell_type": "markdown",
   "metadata": {},
   "source": [
    "Command:"
   ]
  },
  {
   "cell_type": "code",
   "execution_count": null,
   "metadata": {},
   "outputs": [],
   "source": [
    "cpptraj_rms -h"
   ]
  },
  {
   "cell_type": "code",
   "execution_count": null,
   "metadata": {},
   "outputs": [],
   "source": [
    "usage: cpptraj_rms [-h] [--config CONFIG] [--system SYSTEM] [--step STEP] --input_top_path INPUT_TOP_PATH --input_traj_path INPUT_TRAJ_PATH [--input_exp_path INPUT_EXP_PATH] --output_cpptraj_path OUTPUT_CPPTRAJ_PATH\n",
    "\n",
    "Wrapper of the Ambertools Cpptraj module. Calculating Rms analysis.\n",
    "\n",
    "optional arguments:\n",
    "  -h, --help            show this help message and exit\n",
    "  --config CONFIG       Configuration file\n",
    "  --system SYSTEM       Check 'https://biobb-common.readthedocs.io/en/latest/system_step.html' for help\n",
    "  --step STEP           Check 'https://biobb-common.readthedocs.io/en/latest/system_step.html' for help\n",
    "  --input_exp_path INPUT_EXP_PATH\n",
    "                        Path to the experimental reference file (required if reference = experimental).\n",
    "\n",
    "required arguments:\n",
    "  --input_top_path INPUT_TOP_PATH\n",
    "                        Path to the input structure or topology file. Accepted formats: top, pdb, prmtop, parmtop, zip.\n",
    "  --input_traj_path INPUT_TRAJ_PATH\n",
    "                        Path to the input trajectory to be processed. Accepted formats: crd, cdf, netcdf, restart, ncrestart, restartnc, dcd, charmm, cor, pdb, mol2, trr, gro, binpos, xtc, cif, arc, sqm, sdf, conflib.\n",
    "  --output_cpptraj_path OUTPUT_CPPTRAJ_PATH\n",
    "                        Path to the output processed analysis."
   ]
  },
  {
   "cell_type": "markdown",
   "metadata": {},
   "source": [
    "### I / O Arguments"
   ]
  },
  {
   "cell_type": "markdown",
   "metadata": {},
   "source": [
    "Syntax: input_argument (datatype) : Definition\n",
    "\n",
    "Config input / output arguments for this building block:\n",
    "\n",
    "* **input_top_path** (*str*): Path to the input structure or topology file. Accepted formats: top, pdb, prmtop, parmtop, zip.\n",
    "* **input_traj_path** (*str*): Path to the input trajectory to be processed. Accepted formats: crd, cdf, netcdf, restart, ncrestart, restartnc, dcd, charmm, cor, pdb, mol2, trr, gro, binpos, xtc, cif, arc, sqm, sdf, conflib.\n",
    "* **input_exp_path** (*str*): Path to the experimental reference file (required if reference = experimental).\n",
    "* **output_cpptraj_path** (*str*): Path to the output processed analysis."
   ]
  },
  {
   "cell_type": "markdown",
   "metadata": {},
   "source": [
    "### Config"
   ]
  },
  {
   "cell_type": "markdown",
   "metadata": {},
   "source": [
    "Syntax: input_parameter (datatype) - (default_value) Definition\n",
    "\n",
    "Config parameters for this building block:\n",
    "\n",
    "* **in_parameters** (*dict*) - (None) Parameters for input trajectory. Accepted parameters:\n",
    "    * **start** (*int*) - (1) Starting frame for slicing\n",
    "    * **end** (*int*) - (-1) Ending frame for slicing\n",
    "    * **step** (*int*) - (1) Step for slicing\n",
    "    * **mask** (*string*) - (\"all-atoms\") Mask definition. Values: c-alpha, backbone, all-atoms, heavy-atoms, side-chain, solute, ions, solvent.\n",
    "    * **reference** (*string*) - (\"first\") Reference definition. Values: first, average, experimental.\n",
    "* **cpptraj_path** (*str*) - (\"cpptraj\") Path to the cpptraj executable binary."
   ]
  },
  {
   "cell_type": "markdown",
   "metadata": {},
   "source": [
    "### YAML file config"
   ]
  },
  {
   "cell_type": "markdown",
   "metadata": {},
   "source": [
    "rms.yml:"
   ]
  },
  {
   "cell_type": "code",
   "execution_count": null,
   "metadata": {},
   "outputs": [],
   "source": [
    "properties:\n",
    "  in_parameters:\n",
    "    start: 1\n",
    "    end: -1\n",
    "    step: 1\n",
    "    mask: c-alpha\n",
    "    reference: first"
   ]
  },
  {
   "cell_type": "markdown",
   "metadata": {},
   "source": [
    "Command:"
   ]
  },
  {
   "cell_type": "code",
   "execution_count": null,
   "metadata": {},
   "outputs": [],
   "source": [
    "cpptraj_rms --config data/conf/rms.yml --input_top_path data/input/cpptraj.parm.top --input_traj_path data/input/cpptraj.traj.dcd --output_cpptraj_path data/output/output.rms.dat"
   ]
  },
  {
   "cell_type": "markdown",
   "metadata": {},
   "source": [
    "### JSON file config"
   ]
  },
  {
   "cell_type": "markdown",
   "metadata": {},
   "source": [
    "rms.json:"
   ]
  },
  {
   "cell_type": "code",
   "execution_count": null,
   "metadata": {},
   "outputs": [],
   "source": [
    "{\n",
    "  \"properties\": {\n",
    "    \"in_parameters\": {\n",
    "      \"start\": 1,\n",
    "      \"end\": -1,\n",
    "      \"step\": 1,\n",
    "      \"mask\": \"c-alpha\",\n",
    "      \"reference\": \"first\"\n",
    "    }\n",
    "  }\n",
    "}"
   ]
  },
  {
   "cell_type": "markdown",
   "metadata": {},
   "source": [
    "Command:"
   ]
  },
  {
   "cell_type": "code",
   "execution_count": null,
   "metadata": {},
   "outputs": [],
   "source": [
    "cpptraj_rms --config data/conf/rms.json --input_top_path data/input/cpptraj.parm.top --input_traj_path data/input/cpptraj.traj.dcd --output_cpptraj_path data/output/output.rms.dat"
   ]
  },
  {
   "cell_type": "markdown",
   "metadata": {},
   "source": [
    "## Cpptraj rmsf"
   ]
  },
  {
   "cell_type": "markdown",
   "metadata": {},
   "source": [
    "Wrapper of the Ambertools Cpptraj module. Calculating Rmsf analysis."
   ]
  },
  {
   "cell_type": "markdown",
   "metadata": {},
   "source": [
    "### Get help"
   ]
  },
  {
   "cell_type": "markdown",
   "metadata": {},
   "source": [
    "Command:"
   ]
  },
  {
   "cell_type": "code",
   "execution_count": null,
   "metadata": {},
   "outputs": [],
   "source": [
    "cpptraj_rmsf -h"
   ]
  },
  {
   "cell_type": "code",
   "execution_count": null,
   "metadata": {},
   "outputs": [],
   "source": [
    "usage: cpptraj_rmsf [-h] [--config CONFIG] [--system SYSTEM] [--step STEP] --input_top_path INPUT_TOP_PATH --input_traj_path INPUT_TRAJ_PATH [--input_exp_path INPUT_EXP_PATH] --output_cpptraj_path OUTPUT_CPPTRAJ_PATH\n",
    "\n",
    "Wrapper of the Ambertools Cpptraj module. Calculating Rmsf analysis.\n",
    "\n",
    "optional arguments:\n",
    "  -h, --help            show this help message and exit\n",
    "  --config CONFIG       Configuration file\n",
    "  --system SYSTEM       Check 'https://biobb-common.readthedocs.io/en/latest/system_step.html' for help\n",
    "  --step STEP           Check 'https://biobb-common.readthedocs.io/en/latest/system_step.html' for help\n",
    "  --input_exp_path INPUT_EXP_PATH\n",
    "                        Path to the experimental reference file (required if reference = experimental).\n",
    "\n",
    "required arguments:\n",
    "  --input_top_path INPUT_TOP_PATH\n",
    "                        Path to the input structure or topology file. Accepted formats: top, pdb, prmtop, parmtop, zip.\n",
    "  --input_traj_path INPUT_TRAJ_PATH\n",
    "                        Path to the input trajectory to be processed. Accepted formats: crd, cdf, netcdf, restart, ncrestart, restartnc, dcd, charmm, cor, pdb, mol2, trr, gro, binpos, xtc, cif, arc, sqm, sdf, conflib.\n",
    "  --output_cpptraj_path OUTPUT_CPPTRAJ_PATH\n",
    "                        Path to the output processed analysis."
   ]
  },
  {
   "cell_type": "markdown",
   "metadata": {},
   "source": [
    "### I / O Arguments"
   ]
  },
  {
   "cell_type": "markdown",
   "metadata": {},
   "source": [
    "Syntax: input_argument (datatype) : Definition\n",
    "\n",
    "Config input / output arguments for this building block:\n",
    "\n",
    "* **input_top_path** (*str*): Path to the input structure or topology file. Accepted formats: top, pdb, prmtop, parmtop, zip.\n",
    "* **input_traj_path** (*str*): Path to the input trajectory to be processed. Accepted formats: crd, cdf, netcdf, restart, ncrestart, restartnc, dcd, charmm, cor, pdb, mol2, trr, gro, binpos, xtc, cif, arc, sqm, sdf, conflib.\n",
    "* **input_exp_path** (*str*): Path to the experimental reference file (required if reference = experimental).\n",
    "* **output_cpptraj_path** (*str*): Path to the output processed analysis."
   ]
  },
  {
   "cell_type": "markdown",
   "metadata": {},
   "source": [
    "### Config"
   ]
  },
  {
   "cell_type": "markdown",
   "metadata": {},
   "source": [
    "Syntax: input_parameter (datatype) - (default_value) Definition\n",
    "\n",
    "Config parameters for this building block:\n",
    "\n",
    "* **in_parameters** (*dict*) - (None) Parameters for input trajectory. Accepted parameters:\n",
    "    * **start** (*int*) - (1) Starting frame for slicing\n",
    "    * **end** (*int*) - (-1) Ending frame for slicing\n",
    "    * **step** (*int*) - (1) Step for slicing\n",
    "    * **mask** (*string*) - (\"all-atoms\") Mask definition. Values: c-alpha, backbone, all-atoms, heavy-atoms, side-chain, solute, ions, solvent.\n",
    "    * **reference** (*string*) - (\"first\") Reference definition. Values: first, average, experimental.\n",
    "* **cpptraj_path** (*str*) - (\"cpptraj\") Path to the cpptraj executable binary."
   ]
  },
  {
   "cell_type": "markdown",
   "metadata": {},
   "source": [
    "### YAML file config"
   ]
  },
  {
   "cell_type": "markdown",
   "metadata": {},
   "source": [
    "rmsf.yml:"
   ]
  },
  {
   "cell_type": "code",
   "execution_count": null,
   "metadata": {},
   "outputs": [],
   "source": [
    "properties:\n",
    "  in_parameters:\n",
    "    start: 1\n",
    "    end: -1\n",
    "    step: 1\n",
    "    mask: c-alpha\n",
    "    reference: first"
   ]
  },
  {
   "cell_type": "markdown",
   "metadata": {},
   "source": [
    "Command:"
   ]
  },
  {
   "cell_type": "code",
   "execution_count": null,
   "metadata": {},
   "outputs": [],
   "source": [
    "cpptraj_rmsf --config data/conf/rmsf.yml --input_top_path data/input/cpptraj.parm.top --input_traj_path data/input/cpptraj.traj.dcd --output_cpptraj_path data/output/output.rmsf.dat"
   ]
  },
  {
   "cell_type": "markdown",
   "metadata": {},
   "source": [
    "### JSON file config"
   ]
  },
  {
   "cell_type": "markdown",
   "metadata": {},
   "source": [
    "rmsf.json:"
   ]
  },
  {
   "cell_type": "code",
   "execution_count": null,
   "metadata": {},
   "outputs": [],
   "source": [
    "{\n",
    "  \"properties\": {\n",
    "    \"in_parameters\": {\n",
    "      \"start\": 1,\n",
    "      \"end\": -1,\n",
    "      \"step\": 1,\n",
    "      \"mask\": \"c-alpha\",\n",
    "      \"reference\": \"first\"\n",
    "    }\n",
    "  }\n",
    "}"
   ]
  },
  {
   "cell_type": "markdown",
   "metadata": {},
   "source": [
    "Command:"
   ]
  },
  {
   "cell_type": "code",
   "execution_count": null,
   "metadata": {},
   "outputs": [],
   "source": [
    "cpptraj_rmsf --config data/conf/rmsf.json --input_top_path data/input/cpptraj.parm.top --input_traj_path data/input/cpptraj.traj.dcd --output_cpptraj_path data/output/output.rmsf.dat"
   ]
  },
  {
   "cell_type": "markdown",
   "metadata": {},
   "source": [
    "## Cpptraj slice"
   ]
  },
  {
   "cell_type": "markdown",
   "metadata": {},
   "source": [
    "Wrapper of the Ambertools Cpptraj module. Calculating a slice from a given trajectory."
   ]
  },
  {
   "cell_type": "markdown",
   "metadata": {},
   "source": [
    "### Get help"
   ]
  },
  {
   "cell_type": "markdown",
   "metadata": {},
   "source": [
    "Command:"
   ]
  },
  {
   "cell_type": "code",
   "execution_count": null,
   "metadata": {},
   "outputs": [],
   "source": [
    "cpptraj_slice -h"
   ]
  },
  {
   "cell_type": "code",
   "execution_count": null,
   "metadata": {},
   "outputs": [],
   "source": [
    "usage: cpptraj_slice [-h] [--config CONFIG] [--system SYSTEM] [--step STEP] --input_top_path INPUT_TOP_PATH --input_traj_path INPUT_TRAJ_PATH --output_cpptraj_path OUTPUT_CPPTRAJ_PATH\n",
    "\n",
    "Wrapper of the Ambertools Cpptraj module. Calculating a slice from a given trajectory.\n",
    "\n",
    "optional arguments:\n",
    "  -h, --help            show this help message and exit\n",
    "  --config CONFIG       Configuration file\n",
    "  --system SYSTEM       Check 'https://biobb-common.readthedocs.io/en/latest/system_step.html' for help\n",
    "  --step STEP           Check 'https://biobb-common.readthedocs.io/en/latest/system_step.html' for help\n",
    "\n",
    "required arguments:\n",
    "  --input_top_path INPUT_TOP_PATH\n",
    "                        Path to the input structure or topology file. Accepted formats: top, pdb, prmtop, parmtop, zip.\n",
    "  --input_traj_path INPUT_TRAJ_PATH\n",
    "                        Path to the input trajectory to be processed. Accepted formats: crd, cdf, netcdf, restart, ncrestart, restartnc, dcd, charmm, cor, pdb, mol2, trr, gro, binpos, xtc, cif, arc, sqm, sdf, conflib.\n",
    "  --output_cpptraj_path OUTPUT_CPPTRAJ_PATH\n",
    "                        Path to the output processed trajectory."
   ]
  },
  {
   "cell_type": "markdown",
   "metadata": {},
   "source": [
    "### I / O Arguments"
   ]
  },
  {
   "cell_type": "markdown",
   "metadata": {},
   "source": [
    "Syntax: input_argument (datatype) : Definition\n",
    "\n",
    "Config input / output arguments for this building block:\n",
    "\n",
    "* **input_top_path** (*str*): Path to the input structure or topology file. Accepted formats: top, pdb, prmtop, parmtop, zip.\n",
    "* **input_traj_path** (*str*): Path to the input trajectory to be processed. Accepted formats: crd, cdf, netcdf, restart, ncrestart, restartnc, dcd, charmm, cor, pdb, mol2, trr, gro, binpos, xtc, cif, arc, sqm, sdf, conflib.\n",
    "* **output_cpptraj_path** (*str*): Path to the output processed trajectory."
   ]
  },
  {
   "cell_type": "markdown",
   "metadata": {},
   "source": [
    "### Config"
   ]
  },
  {
   "cell_type": "markdown",
   "metadata": {},
   "source": [
    "Syntax: input_parameter (datatype) - (default_value) Definition\n",
    "\n",
    "Config parameters for this building block:\n",
    "\n",
    "* **in_parameters** (*dict*) - (None) Parameters for input trajectory. Accepted parameters:\n",
    "    * **start** (*int*) - (1) Starting frame for slicing\n",
    "    * **end** (*int*) - (-1) Ending frame for slicing\n",
    "    * **step** (*int*) - (1) Step for slicing\n",
    "    * **mask** (*string*) - (\"all-atoms\") Mask definition. Values: c-alpha, backbone, all-atoms, heavy-atoms, side-chain, solute, ions, solvent.\n",
    "* **out_parameters** (*dict*) - (None) Parameters for output trajectory.\n",
    "    * **format** (*str*) - (\"netcdf\") Output trajectory format. Values: crd, cdf, netcdf, restart, ncrestart, restartnc, dcd, charmm, cor, pdb, mol2, trr, gro, binpos, xtc, cif, arc, sqm, sdf, conflib.\n",
    "* **cpptraj_path** (*str*) - (\"cpptraj\") Path to the cpptraj executable binary."
   ]
  },
  {
   "cell_type": "markdown",
   "metadata": {},
   "source": [
    "### YAML file config"
   ]
  },
  {
   "cell_type": "markdown",
   "metadata": {},
   "source": [
    "slice.yml:"
   ]
  },
  {
   "cell_type": "code",
   "execution_count": null,
   "metadata": {},
   "outputs": [],
   "source": [
    "properties:\n",
    "  in_parameters:\n",
    "    start: 2\n",
    "    end: 20\n",
    "    step: 2\n",
    "    mask: c-alpha\n",
    "  out_parameters:\n",
    "    format: netcdf"
   ]
  },
  {
   "cell_type": "markdown",
   "metadata": {},
   "source": [
    "Command:"
   ]
  },
  {
   "cell_type": "code",
   "execution_count": null,
   "metadata": {},
   "outputs": [],
   "source": [
    "cpptraj_slice --config data/conf/slice.yml --input_top_path data/input/cpptraj.parm.top --input_traj_path data/input/cpptraj.traj.dcd --output_cpptraj_path data/output/output.slice.netcdf"
   ]
  },
  {
   "cell_type": "markdown",
   "metadata": {},
   "source": [
    "### JSON file config"
   ]
  },
  {
   "cell_type": "markdown",
   "metadata": {},
   "source": [
    "slice.json:"
   ]
  },
  {
   "cell_type": "code",
   "execution_count": null,
   "metadata": {},
   "outputs": [],
   "source": [
    "{\n",
    "  \"properties\": {\n",
    "    \"in_parameters\": {\n",
    "      \"start\": 1,\n",
    "      \"end\": -1,\n",
    "      \"step\": 1,\n",
    "      \"mask\": \"c-alpha\"\n",
    "    },\n",
    "    \"out_parameters\": {\n",
    "      \"format\": \"netcdf\"\n",
    "    }\n",
    "  }\n",
    "}"
   ]
  },
  {
   "cell_type": "markdown",
   "metadata": {},
   "source": [
    "Command:"
   ]
  },
  {
   "cell_type": "code",
   "execution_count": null,
   "metadata": {},
   "outputs": [],
   "source": [
    "cpptraj_slice --config data/conf/slice.json --input_top_path data/input/cpptraj.parm.top --input_traj_path data/input/cpptraj.traj.dcd --output_cpptraj_path data/output/output.slice.netcdf"
   ]
  },
  {
   "cell_type": "markdown",
   "metadata": {},
   "source": [
    "## Cpptraj snapshot"
   ]
  },
  {
   "cell_type": "markdown",
   "metadata": {},
   "source": [
    "Wrapper of the Ambertools Cpptraj module. Calculating a snapshot structure."
   ]
  },
  {
   "cell_type": "markdown",
   "metadata": {},
   "source": [
    "### Get help"
   ]
  },
  {
   "cell_type": "markdown",
   "metadata": {},
   "source": [
    "Command:"
   ]
  },
  {
   "cell_type": "code",
   "execution_count": null,
   "metadata": {},
   "outputs": [],
   "source": [
    "cpptraj_snapshot -h"
   ]
  },
  {
   "cell_type": "code",
   "execution_count": null,
   "metadata": {},
   "outputs": [],
   "source": [
    "usage: cpptraj_snapshot [-h] --config CONFIG [--system SYSTEM] [--step STEP] --input_top_path INPUT_TOP_PATH --input_traj_path INPUT_TRAJ_PATH --output_cpptraj_path OUTPUT_CPPTRAJ_PATH\n",
    "\n",
    "Wrapper of the Ambertools Cpptraj module. Calculating a snapshot structure.\n",
    "\n",
    "optional arguments:\n",
    "  -h, --help            show this help message and exit\n",
    "  --config CONFIG       Configuration file\n",
    "  --system SYSTEM       Check 'https://biobb-common.readthedocs.io/en/latest/system_step.html' for help\n",
    "  --step STEP           Check 'https://biobb-common.readthedocs.io/en/latest/system_step.html' for help\n",
    "\n",
    "required arguments:\n",
    "  --input_top_path INPUT_TOP_PATH\n",
    "                        Path to the input structure or topology file. Accepted formats: top, pdb, prmtop, parmtop, zip.\n",
    "  --input_traj_path INPUT_TRAJ_PATH\n",
    "                        Path to the input trajectory to be processed. Accepted formats: crd, cdf, netcdf, restart, ncrestart, restartnc, dcd, charmm, cor, pdb, mol2, trr, gro, binpos, xtc, cif, arc, sqm, sdf, conflib.\n",
    "  --output_cpptraj_path OUTPUT_CPPTRAJ_PATH\n",
    "                        Path to the output processed structure."
   ]
  },
  {
   "cell_type": "markdown",
   "metadata": {},
   "source": [
    "### I / O Arguments"
   ]
  },
  {
   "cell_type": "markdown",
   "metadata": {},
   "source": [
    "Syntax: input_argument (datatype) : Definition\n",
    "\n",
    "Config input / output arguments for this building block:\n",
    "\n",
    "* **input_top_path** (*str*): Path to the input structure or topology file. Accepted formats: top, pdb, prmtop, parmtop, zip.\n",
    "* **input_traj_path** (*str*): Path to the input trajectory to be processed. Accepted formats: crd, cdf, netcdf, restart, ncrestart, restartnc, dcd, charmm, cor, pdb, mol2, trr, gro, binpos, xtc, cif, arc, sqm, sdf, conflib.\n",
    "* **output_cpptraj_path** (*str*): Path to the output processed structure."
   ]
  },
  {
   "cell_type": "markdown",
   "metadata": {},
   "source": [
    "### Config"
   ]
  },
  {
   "cell_type": "markdown",
   "metadata": {},
   "source": [
    "Syntax: input_parameter (datatype) - (default_value) Definition\n",
    "\n",
    "Config parameters for this building block:\n",
    "\n",
    "* **in_parameters** (*dict*) - (None) Parameters for input trajectory. Accepted parameters:\n",
    "    * **snapshot** (*int*) - (1) Frame to be captured for snapshot\n",
    "    * **mask** (*string*) - (\"all-atoms\") Mask definition. Values: c-alpha, backbone, all-atoms, heavy-atoms, side-chain, solute, ions, solvent.\n",
    "* **out_parameters** (*dict*) - (None) Parameters for output trajectory.\n",
    "    * **format** (*str*) - (\"netcdf\") Output trajectory format. Values: crd, cdf, netcdf, restart, ncrestart, restartnc, dcd, charmm, cor, pdb, mol2, trr, gro, binpos, xtc, cif, arc, sqm, sdf, conflib.\n",
    "* **cpptraj_path** (*str*) - (\"cpptraj\") Path to the cpptraj executable binary."
   ]
  },
  {
   "cell_type": "markdown",
   "metadata": {},
   "source": [
    "### YAML file config"
   ]
  },
  {
   "cell_type": "markdown",
   "metadata": {},
   "source": [
    "snapshot.yml:"
   ]
  },
  {
   "cell_type": "code",
   "execution_count": null,
   "metadata": {},
   "outputs": [],
   "source": [
    "properties:\n",
    "  in_parameters:\n",
    "    snapshot: 12\n",
    "    mask: c-alpha\n",
    "  out_parameters:\n",
    "    format: pdb"
   ]
  },
  {
   "cell_type": "markdown",
   "metadata": {},
   "source": [
    "Command:"
   ]
  },
  {
   "cell_type": "code",
   "execution_count": null,
   "metadata": {},
   "outputs": [],
   "source": [
    "cpptraj_snapshot --config data/conf/snapshot.yml --input_top_path data/input/cpptraj.parm.top --input_traj_path data/input/cpptraj.traj.dcd --output_cpptraj_path data/output/output.snapshot.pdb"
   ]
  },
  {
   "cell_type": "markdown",
   "metadata": {},
   "source": [
    "### JSON file config"
   ]
  },
  {
   "cell_type": "markdown",
   "metadata": {},
   "source": [
    "snapshot.json:"
   ]
  },
  {
   "cell_type": "code",
   "execution_count": null,
   "metadata": {},
   "outputs": [],
   "source": [
    "{\n",
    "  \"properties\": {\n",
    "    \"in_parameters\": {\n",
    "      \"snapshot\": 12,\n",
    "      \"mask\": \"c-alpha\"\n",
    "    },\n",
    "    \"out_parameters\": {\n",
    "      \"format\": \"pdb\"\n",
    "    }\n",
    "  }\n",
    "}"
   ]
  },
  {
   "cell_type": "markdown",
   "metadata": {},
   "source": [
    "Command:"
   ]
  },
  {
   "cell_type": "code",
   "execution_count": null,
   "metadata": {},
   "outputs": [],
   "source": [
    "cpptraj_snapshot --config data/conf/slice.json --input_top_path data/input/cpptraj.parm.top --input_traj_path data/input/cpptraj.traj.dcd --output_cpptraj_path data/output/output.slice.netcdf"
   ]
  },
  {
   "cell_type": "markdown",
   "metadata": {},
   "source": [
    "## Cpptraj strip"
   ]
  },
  {
   "cell_type": "markdown",
   "metadata": {},
   "source": [
    "Wrapper of the Ambertools Cpptraj module. Stripping a trajectory."
   ]
  },
  {
   "cell_type": "markdown",
   "metadata": {},
   "source": [
    "### Get help"
   ]
  },
  {
   "cell_type": "markdown",
   "metadata": {},
   "source": [
    "Command:"
   ]
  },
  {
   "cell_type": "code",
   "execution_count": null,
   "metadata": {},
   "outputs": [],
   "source": [
    "cpptraj_strip -h"
   ]
  },
  {
   "cell_type": "code",
   "execution_count": null,
   "metadata": {},
   "outputs": [],
   "source": [
    "usage: cpptraj_strip [-h] [--config CONFIG] [--system SYSTEM] [--step STEP] --input_top_path INPUT_TOP_PATH --input_traj_path INPUT_TRAJ_PATH --output_cpptraj_path OUTPUT_CPPTRAJ_PATH\n",
    "\n",
    "Wrapper for the Ambertools Cpptraj module. Stripping a trajectory.\n",
    "\n",
    "optional arguments:\n",
    "  -h, --help            show this help message and exit\n",
    "  --config CONFIG       Configuration file\n",
    "  --system SYSTEM       Check 'https://biobb-common.readthedocs.io/en/latest/system_step.html' for help\n",
    "  --step STEP           Check 'https://biobb-common.readthedocs.io/en/latest/system_step.html' for help\n",
    "\n",
    "required arguments:\n",
    "  --input_top_path INPUT_TOP_PATH\n",
    "                        Path to the input structure or topology file. Accepted formats: top, pdb, prmtop, parmtop, zip.\n",
    "  --input_traj_path INPUT_TRAJ_PATH\n",
    "                        Path to the input trajectory to be processed. Accepted formats: crd, cdf, netcdf, restart, ncrestart, restartnc, dcd, charmm, cor, pdb, mol2, trr, gro, binpos, xtc, cif, arc, sqm, sdf, conflib.\n",
    "  --output_cpptraj_path OUTPUT_CPPTRAJ_PATH\n",
    "                        Path to the output processed trajectory."
   ]
  },
  {
   "cell_type": "markdown",
   "metadata": {},
   "source": [
    "### I / O Arguments"
   ]
  },
  {
   "cell_type": "markdown",
   "metadata": {},
   "source": [
    "Syntax: input_argument (datatype) : Definition\n",
    "\n",
    "Config input / output arguments for this building block:\n",
    "\n",
    "* **input_top_path** (*str*): Path to the input structure or topology file. Accepted formats: top, pdb, prmtop, parmtop, zip.\n",
    "* **input_traj_path** (*str*): Path to the input trajectory to be processed. Accepted formats: crd, cdf, netcdf, restart, ncrestart, restartnc, dcd, charmm, cor, pdb, mol2, trr, gro, binpos, xtc, cif, arc, sqm, sdf, conflib.\n",
    "* **output_cpptraj_path** (*str*): Path to the output processed trajectory."
   ]
  },
  {
   "cell_type": "markdown",
   "metadata": {},
   "source": [
    "### Config"
   ]
  },
  {
   "cell_type": "markdown",
   "metadata": {},
   "source": [
    "Syntax: input_parameter (datatype) - (default_value) Definition\n",
    "\n",
    "Config parameters for this building block:\n",
    "\n",
    "* **in_parameters** (*dict*) - (None) Parameters for input trajectory. Accepted parameters:\n",
    "    * **start** (*int*) - (1) Starting frame for slicing\n",
    "    * **end** (*int*) - (-1) Ending frame for slicing\n",
    "    * **step** (*int*) - (1) Step for slicing\n",
    "    * **mask** (*string*) - (\"all-atoms\") Mask definition. Values: c-alpha, backbone, all-atoms, heavy-atoms, side-chain, solute, ions, solvent.\n",
    "* **out_parameters** (*dict*) - (None) Parameters for output trajectory.\n",
    "    * **format** (*str*) - (\"netcdf\") Output trajectory format. Values: crd, cdf, netcdf, restart, ncrestart, restartnc, dcd, charmm, cor, pdb, mol2, trr, gro, binpos, xtc, cif, arc, sqm, sdf, conflib.\n",
    "* **cpptraj_path** (*str*) - (\"cpptraj\") Path to the cpptraj executable binary."
   ]
  },
  {
   "cell_type": "markdown",
   "metadata": {},
   "source": [
    "### YAML file config"
   ]
  },
  {
   "cell_type": "markdown",
   "metadata": {},
   "source": [
    "strip.yml:"
   ]
  },
  {
   "cell_type": "code",
   "execution_count": null,
   "metadata": {},
   "outputs": [],
   "source": [
    "properties:\n",
    "  in_parameters:\n",
    "    start: 2\n",
    "    end: 20\n",
    "    step: 2\n",
    "    mask: c-alpha\n",
    "  out_parameters:\n",
    "    format: netcdf"
   ]
  },
  {
   "cell_type": "markdown",
   "metadata": {},
   "source": [
    "Command:"
   ]
  },
  {
   "cell_type": "code",
   "execution_count": null,
   "metadata": {},
   "outputs": [],
   "source": [
    "cpptraj_strip --config data/conf/strip.yml --input_top_path data/input/cpptraj.parm.top --input_traj_path data/input/cpptraj.traj.dcd --output_cpptraj_path data/output/output.strip.netcdf"
   ]
  },
  {
   "cell_type": "markdown",
   "metadata": {},
   "source": [
    "### JSON file config"
   ]
  },
  {
   "cell_type": "markdown",
   "metadata": {},
   "source": [
    "strip.json:"
   ]
  },
  {
   "cell_type": "code",
   "execution_count": null,
   "metadata": {},
   "outputs": [],
   "source": [
    "{\n",
    "  \"properties\": {\n",
    "    \"in_parameters\": {\n",
    "      \"start\": 1,\n",
    "      \"end\": -1,\n",
    "      \"step\": 1,\n",
    "      \"mask\": \"c-alpha\"\n",
    "    },\n",
    "    \"out_parameters\": {\n",
    "      \"format\": \"netcdf\"\n",
    "    }\n",
    "  }\n",
    "}"
   ]
  },
  {
   "cell_type": "markdown",
   "metadata": {},
   "source": [
    "Command:"
   ]
  },
  {
   "cell_type": "code",
   "execution_count": null,
   "metadata": {},
   "outputs": [],
   "source": [
    "cpptraj_strip --config data/conf/strip.json --input_top_path data/input/cpptraj.parm.top --input_traj_path data/input/cpptraj.traj.dcd --output_cpptraj_path data/output/output.strip.netcdf"
   ]
  },
  {
   "cell_type": "markdown",
   "metadata": {},
   "source": [
    "## Gromacs cluster"
   ]
  },
  {
   "cell_type": "markdown",
   "metadata": {},
   "source": [
    "Wrapper class for the GROMACS cluster (http://manual.gromacs.org/current/onlinehelp/gmx-cluster.html) module."
   ]
  },
  {
   "cell_type": "markdown",
   "metadata": {},
   "source": [
    "### Get help"
   ]
  },
  {
   "cell_type": "markdown",
   "metadata": {},
   "source": [
    "Command:"
   ]
  },
  {
   "cell_type": "code",
   "execution_count": null,
   "metadata": {},
   "outputs": [],
   "source": [
    "gmx_cluster -h"
   ]
  },
  {
   "cell_type": "code",
   "execution_count": null,
   "metadata": {},
   "outputs": [],
   "source": [
    "usage: gmx_cluster [-h] [--config CONFIG] [--system SYSTEM] [--step STEP] --input_structure_path INPUT_STRUCTURE_PATH --input_traj_path INPUT_TRAJ_PATH --output_pdb_path OUTPUT_PDB_PATH\n",
    "\n",
    "Wrapper of the GROMACS cluster module.\n",
    "\n",
    "optional arguments:\n",
    "  -h, --help            show this help message and exit\n",
    "  --config CONFIG       Configuration file\n",
    "  --system SYSTEM       Check 'https://biobb-common.readthedocs.io/en/latest/system_step.html' for help\n",
    "  --step STEP           Check 'https://biobb-common.readthedocs.io/en/latest/system_step.html' for help\n",
    "\n",
    "required arguments:\n",
    "  --input_structure_path INPUT_STRUCTURE_PATH\n",
    "                        Path to the input structure file: tpr, gro, g96, pdb, brk, ent.\n",
    "  --input_traj_path INPUT_TRAJ_PATH\n",
    "                        Path to the GROMACS trajectory file: xtc, trr, cpt, gro, g96, pdb, tng.\n",
    "  --output_pdb_path OUTPUT_PDB_PATH\n",
    "                        Path to the output cluster file: xtc, trr, cpt, gro, g96, pdb, tng."
   ]
  },
  {
   "cell_type": "markdown",
   "metadata": {},
   "source": [
    "### I / O Arguments"
   ]
  },
  {
   "cell_type": "markdown",
   "metadata": {},
   "source": [
    "Syntax: input_argument (datatype) : Definition\n",
    "\n",
    "Config input / output arguments for this building block:\n",
    "\n",
    "* **input_structure_path** (*str*): Path to the input structure file: tpr, gro, g96, pdb, brk, ent.\n",
    "* **input_traj_path** (*str*): Path to the GROMACS trajectory file: xtc, trr, cpt, gro, g96, pdb, tng.\n",
    "* **output_pdb_path** (*str*): Path to the output cluster file: xtc, trr, cpt, gro, g96, pdb, tng."
   ]
  },
  {
   "cell_type": "markdown",
   "metadata": {},
   "source": [
    "### Config"
   ]
  },
  {
   "cell_type": "markdown",
   "metadata": {},
   "source": [
    "Syntax: input_parameter (datatype) - (default_value) Definition\n",
    "\n",
    "Config parameters for this building block:\n",
    "\n",
    "* **dista** (*bool*) - (False) Use RMSD of distances instead of RMS deviation.\n",
    "* **method** (*str*) - (\"linkage\") Method for cluster determination: linkage, jarvis-patrick, monte-carlo, diagonalization, gromos\n",
    "* **cutoff** (*float*) - (0.1) RMSD cut-off (nm) for two structures to be neighbor\n",
    "* **gmx_path** (*str*) - (\"gmx\") Path to the GROMACS executable binary."
   ]
  },
  {
   "cell_type": "markdown",
   "metadata": {},
   "source": [
    "### YAML file config"
   ]
  },
  {
   "cell_type": "markdown",
   "metadata": {},
   "source": [
    "cluster.yml:"
   ]
  },
  {
   "cell_type": "code",
   "execution_count": null,
   "metadata": {},
   "outputs": [],
   "source": [
    "properties:\n",
    "  dista: False\n",
    "  method: linkage\n",
    "  cutoff: 0.1"
   ]
  },
  {
   "cell_type": "markdown",
   "metadata": {},
   "source": [
    "Command:"
   ]
  },
  {
   "cell_type": "code",
   "execution_count": null,
   "metadata": {},
   "outputs": [],
   "source": [
    "gmx_cluster --config data/conf/cluster.yml --input_structure_path data/input/cluster.gro --input_traj_path data/input/cluster.trr --output_pdb_path data/output/output.cluster.pdb"
   ]
  },
  {
   "cell_type": "markdown",
   "metadata": {},
   "source": [
    "### JSON file config"
   ]
  },
  {
   "cell_type": "markdown",
   "metadata": {},
   "source": [
    "cluster.json:"
   ]
  },
  {
   "cell_type": "code",
   "execution_count": null,
   "metadata": {},
   "outputs": [],
   "source": [
    "{\n",
    "  \"properties\": {\n",
    "    \"dista\": false,\n",
    "    \"method\": \"linkage\",\n",
    "    \"cutoff\": 0.1\n",
    "  }\n",
    "}"
   ]
  },
  {
   "cell_type": "markdown",
   "metadata": {},
   "source": [
    "Command:"
   ]
  },
  {
   "cell_type": "code",
   "execution_count": null,
   "metadata": {},
   "outputs": [],
   "source": [
    "gmx_cluster --config data/conf/cluster.json --input_structure_path data/input/cluster.gro --input_traj_path data/input/cluster.trr --output_pdb_path data/output/output.cluster.pdb"
   ]
  },
  {
   "cell_type": "markdown",
   "metadata": {},
   "source": [
    "## Gromacs energy"
   ]
  },
  {
   "cell_type": "markdown",
   "metadata": {},
   "source": [
    "Wrapper of the GROMACS energy (http://manual.gromacs.org/current/onlinehelp/gmx-energy.html) module."
   ]
  },
  {
   "cell_type": "markdown",
   "metadata": {},
   "source": [
    "### Get help"
   ]
  },
  {
   "cell_type": "markdown",
   "metadata": {},
   "source": [
    "Command:"
   ]
  },
  {
   "cell_type": "code",
   "execution_count": null,
   "metadata": {},
   "outputs": [],
   "source": [
    "gmx_energy -h"
   ]
  },
  {
   "cell_type": "code",
   "execution_count": null,
   "metadata": {},
   "outputs": [],
   "source": [
    "usage: gmx_energy [-h] [--config CONFIG] [--system SYSTEM] [--step STEP] --input_energy_path INPUT_ENERGY_PATH --output_xvg_path OUTPUT_XVG_PATH\n",
    "\n",
    "Wrapper for the GROMACS energy module.\n",
    "\n",
    "optional arguments:\n",
    "  -h, --help            show this help message and exit\n",
    "  --config CONFIG       Configuration file\n",
    "  --system SYSTEM       Check 'https://biobb-common.readthedocs.io/en/latest/system_step.html' for help\n",
    "  --step STEP           Check 'https://biobb-common.readthedocs.io/en/latest/system_step.html' for help\n",
    "\n",
    "required arguments:\n",
    "  --input_energy_path INPUT_ENERGY_PATH\n",
    "                        Path to the input EDR file.\n",
    "  --output_xvg_path OUTPUT_XVG_PATH\n",
    "                        Path to the XVG output file."
   ]
  },
  {
   "cell_type": "markdown",
   "metadata": {},
   "source": [
    "### I / O Arguments"
   ]
  },
  {
   "cell_type": "markdown",
   "metadata": {},
   "source": [
    "Syntax: input_argument (datatype) : Definition\n",
    "\n",
    "Config input / output arguments for this building block:\n",
    "\n",
    "* **input_energy_path** (*str*): Path to the input EDR file.\n",
    "* **output_xvg_path** (*str*): Path to the XVG output file."
   ]
  },
  {
   "cell_type": "markdown",
   "metadata": {},
   "source": [
    "### Config"
   ]
  },
  {
   "cell_type": "markdown",
   "metadata": {},
   "source": [
    "Syntax: input_parameter (datatype) - (default_value) Definition\n",
    "\n",
    "Config parameters for this building block:\n",
    "\n",
    "* **xvg** (*str*) - (\"none\") XVG plot formatting: xmgrace, xmgr, none.\n",
    "* **terms** (*list*) - ([\"Potential\"]) Energy terms. Select one or more from: Angle, Proper-Dih., Improper-Dih., LJ-14, Coulomb-14, LJ-(SR), Coulomb-(SR), Coul.-recip., Position-Rest., Potential, Kinetic-En., Total-Energy, Temperature, Pressure,  Constr.-rmsd, Box-X, Box-Y,  Box-Z, Volume, Density, pV, Enthalpy, Vir-XX, Vir-XY, Vir-XZ, Vir-YX, Vir-YY, Vir-YZ, Vir-ZX, Vir-ZY, Vir-ZZ, Pres-XX, Pres-XY, Pres-XZ, Pres-YX, Pres-YY,  Pres-YZ, Pres-ZX, Pres-ZY, Pres-ZZ, #Surf*SurfTen, Box-Vel-XX, Box-Vel-YY, Box-Vel-ZZ, Mu-X, Mu-Y, Mu-Z, T-Protein, T-non-Protein, Lamb-Protein, Lamb-non-Protein\n",
    "* **gmx_path** (*str*) - (\"gmx\") Path to the GROMACS executable binary."
   ]
  },
  {
   "cell_type": "markdown",
   "metadata": {},
   "source": [
    "### YAML file config"
   ]
  },
  {
   "cell_type": "markdown",
   "metadata": {},
   "source": [
    "energy.yml:"
   ]
  },
  {
   "cell_type": "code",
   "execution_count": null,
   "metadata": {},
   "outputs": [],
   "source": [
    "properties:\n",
    "  terms: [Potential, Pressure]"
   ]
  },
  {
   "cell_type": "markdown",
   "metadata": {},
   "source": [
    "Command:"
   ]
  },
  {
   "cell_type": "code",
   "execution_count": null,
   "metadata": {},
   "outputs": [],
   "source": [
    "gmx_energy --config data/conf/energy.yml --input_energy_path data/input/energy.edr --output_xvg_path data/output/output.energy.xvg"
   ]
  },
  {
   "cell_type": "markdown",
   "metadata": {},
   "source": [
    "### JSON file config"
   ]
  },
  {
   "cell_type": "markdown",
   "metadata": {},
   "source": [
    "energy.json:"
   ]
  },
  {
   "cell_type": "code",
   "execution_count": null,
   "metadata": {},
   "outputs": [],
   "source": [
    "{\n",
    "  \"properties\": {\n",
    "    \"terms\": [\"Potential\", \"Pressure\"]\n",
    "  }\n",
    "}"
   ]
  },
  {
   "cell_type": "markdown",
   "metadata": {},
   "source": [
    "Command:"
   ]
  },
  {
   "cell_type": "code",
   "execution_count": null,
   "metadata": {},
   "outputs": [],
   "source": [
    "gmx_energy --config data/conf/energy.json --input_energy_path data/input/energy.edr --output_xvg_path data/output/output.energy.xvg"
   ]
  },
  {
   "cell_type": "markdown",
   "metadata": {},
   "source": [
    "## Gromacs image"
   ]
  },
  {
   "cell_type": "markdown",
   "metadata": {},
   "source": [
    "Wrapper of the GROMACS trjconv (http://manual.gromacs.org/documentation/2018/onlinehelp/gmx-trjconv.html) module."
   ]
  },
  {
   "cell_type": "markdown",
   "metadata": {},
   "source": [
    "### Get help"
   ]
  },
  {
   "cell_type": "markdown",
   "metadata": {},
   "source": [
    "Command:"
   ]
  },
  {
   "cell_type": "code",
   "execution_count": null,
   "metadata": {},
   "outputs": [],
   "source": [
    "gmx_image -h"
   ]
  },
  {
   "cell_type": "code",
   "execution_count": null,
   "metadata": {},
   "outputs": [],
   "source": [
    "usage: gmx_image [-h] [--config CONFIG] [--system SYSTEM] [--step STEP] --input_traj_path INPUT_TRAJ_PATH --input_top_path INPUT_TOP_PATH --output_traj_path OUTPUT_TRAJ_PATH\n",
    "\n",
    "Wrapper of the GROMACS trjconv module.\n",
    "\n",
    "optional arguments:\n",
    "  -h, --help            show this help message and exit\n",
    "  --config CONFIG       Configuration file\n",
    "  --system SYSTEM       Check 'https://biobb-common.readthedocs.io/en/latest/system_step.html' for help\n",
    "  --step STEP           Check 'https://biobb-common.readthedocs.io/en/latest/system_step.html' for help\n",
    "\n",
    "required arguments:\n",
    "  --input_traj_path INPUT_TRAJ_PATH\n",
    "                        Path to the GROMACS trajectory file: xtc, trr, cpt, gro, g96, pdb, tng.\n",
    "  --input_top_path INPUT_TOP_PATH\n",
    "                        Path to the GROMACS input topology file: tpr, gro, g96, pdb, brk, ent.\n",
    "  --output_traj_path OUTPUT_TRAJ_PATH\n",
    "                        Path to the output file: xtc, trr, gro, g96, pdb, tng."
   ]
  },
  {
   "cell_type": "markdown",
   "metadata": {},
   "source": [
    "### I / O Arguments"
   ]
  },
  {
   "cell_type": "markdown",
   "metadata": {},
   "source": [
    "Syntax: input_argument (datatype) : Definition\n",
    "\n",
    "Config input / output arguments for this building block:\n",
    "\n",
    "* **input_traj_path** (*str*): Path to the GROMACS trajectory file: xtc, trr, cpt, gro, g96, pdb, tng.\n",
    "* **input_top_path** (*str*): Path to the GROMACS input topology file: tpr, gro, g96, pdb, brk, ent.\n",
    "* **output_traj_path** (*str*): Path to the output file: xtc, trr, gro, g96, pdb, tng."
   ]
  },
  {
   "cell_type": "markdown",
   "metadata": {},
   "source": [
    "### Config"
   ]
  },
  {
   "cell_type": "markdown",
   "metadata": {},
   "source": [
    "Syntax: input_parameter (datatype) - (default_value) Definition\n",
    "\n",
    "Config parameters for this building block:\n",
    "\n",
    "* **center_selection** (*str*) - (\"System\") Group where the trjconv will be performed: System, Protein, Protein-H, C-alpha, Backbone, MainChain, MainChain+Cb, MainChain+H, SideChain, SideChain-H, Prot-Masses, non-Protein, Water, SOL, non-Water, Ion, NA, CL, Water_and_ions.\n",
    "* **output_selection** (*str*) - (\"System\") Group that is going to be written in the output trajectory: System, Protein, Protein-H, C-alpha, Backbone, MainChain, MainChain+Cb, MainChain+H, SideChain, SideChain-H, Prot-Masses, non-Protein, Water, SOL, non-Water, Ion, NA, CL, Water_and_ions.\n",
    "* **pbc** (*str*) - (\"mol\") PBC treatment (see help text for full description): none, mol, res, atom, nojump, cluster, whole\n",
    "* **center** (*bool*) - (True) Center atoms in box.\n",
    "* **ur** (*str*) - (\"compact\") Unit-cell representation: rect, tric, compact.\n",
    "* **fit** (*str*) - (\"none\") Fit molecule to ref structure in the structure file: none, rot+trans, rotxy+transxy, translation, transxy, progressive.\n",
    "* **gmx_path** (*str*) - (\"gmx\") Path to the GROMACS executable binary."
   ]
  },
  {
   "cell_type": "markdown",
   "metadata": {},
   "source": [
    "### YAML file config"
   ]
  },
  {
   "cell_type": "markdown",
   "metadata": {},
   "source": [
    "gmx_image.yml:"
   ]
  },
  {
   "cell_type": "code",
   "execution_count": null,
   "metadata": {},
   "outputs": [],
   "source": [
    "properties:\n",
    "  center_selection: Protein-H\n",
    "  output_selection: Protein-H\n",
    "  pbc: mol\n",
    "  center: True\n",
    "  fit: none\n",
    "  ur: compact"
   ]
  },
  {
   "cell_type": "markdown",
   "metadata": {},
   "source": [
    "Command:"
   ]
  },
  {
   "cell_type": "code",
   "execution_count": null,
   "metadata": {},
   "outputs": [],
   "source": [
    "gmx_image --config data/conf/gmx_image.yml --input_traj_path data/input/image.trr --input_top_path data/input/image.gro --output_traj_path data/output/output.image.xtc"
   ]
  },
  {
   "cell_type": "markdown",
   "metadata": {},
   "source": [
    "### JSON file config"
   ]
  },
  {
   "cell_type": "markdown",
   "metadata": {},
   "source": [
    "gmx_image.json:"
   ]
  },
  {
   "cell_type": "code",
   "execution_count": null,
   "metadata": {},
   "outputs": [],
   "source": [
    "{\n",
    "  \"properties\": {\n",
    "    \"center_selection\": \"Protein-H\",\n",
    "    \"output_selection\": \"Protein-H\",\n",
    "    \"pbc\": \"mol\",\n",
    "    \"center\": true,\n",
    "    \"fit\": \"none\",\n",
    "    \"ur\": \"compact\"\n",
    "  }\n",
    "}"
   ]
  },
  {
   "cell_type": "markdown",
   "metadata": {},
   "source": [
    "Command:"
   ]
  },
  {
   "cell_type": "code",
   "execution_count": null,
   "metadata": {},
   "outputs": [],
   "source": [
    "gmx_image --config data/conf/gmx_image.json --input_traj_path data/input/image.trr --input_top_path data/input/image.gro --output_traj_path data/output/output.image.xtc"
   ]
  },
  {
   "cell_type": "markdown",
   "metadata": {},
   "source": [
    "## Gromacs rgyr"
   ]
  },
  {
   "cell_type": "markdown",
   "metadata": {},
   "source": [
    "Wrapper of the GROMACS rgyr (http://manual.gromacs.org/documentation/2018/onlinehelp/gmx-gyrate.html) module."
   ]
  },
  {
   "cell_type": "markdown",
   "metadata": {},
   "source": [
    "### Get help"
   ]
  },
  {
   "cell_type": "markdown",
   "metadata": {},
   "source": [
    "Command:"
   ]
  },
  {
   "cell_type": "code",
   "execution_count": null,
   "metadata": {},
   "outputs": [],
   "source": [
    "gmx_rgyr -h"
   ]
  },
  {
   "cell_type": "code",
   "execution_count": null,
   "metadata": {},
   "outputs": [],
   "source": [
    "usage: gmx_rgyr [-h] [--config CONFIG] [--system SYSTEM] [--step STEP] --input_structure_path INPUT_STRUCTURE_PATH --input_traj_path INPUT_TRAJ_PATH --output_xvg_path OUTPUT_XVG_PATH\n",
    "\n",
    "Wrapper for the GROMACS rgyr module.\n",
    "\n",
    "optional arguments:\n",
    "  -h, --help            show this help message and exit\n",
    "  --config CONFIG       Configuration file\n",
    "  --system SYSTEM       Check 'https://biobb-common.readthedocs.io/en/latest/system_step.html' for help\n",
    "  --step STEP           Check 'https://biobb-common.readthedocs.io/en/latest/system_step.html' for help\n",
    "\n",
    "required arguments:\n",
    "  --input_structure_path INPUT_STRUCTURE_PATH\n",
    "                        Path to the input structure file: tpr, gro, g96, pdb, brk, ent.\n",
    "  --input_traj_path INPUT_TRAJ_PATH\n",
    "                        Path to the GROMACS trajectory file: xtc, trr, cpt, gro, g96, pdb, tng.\n",
    "  --output_xvg_path OUTPUT_XVG_PATH\n",
    "                        Path to the XVG output file."
   ]
  },
  {
   "cell_type": "markdown",
   "metadata": {},
   "source": [
    "### I / O Arguments"
   ]
  },
  {
   "cell_type": "markdown",
   "metadata": {},
   "source": [
    "Syntax: input_argument (datatype) : Definition\n",
    "\n",
    "Config input / output arguments for this building block:\n",
    "\n",
    "* **input_structure_path** (*str*): Path to the input structure file: tpr, gro, g96, pdb, brk, ent.\n",
    "* **input_traj_path** (*str*): Path to the GROMACS trajectory file: xtc, trr, cpt, gro, g96, pdb, tng.\n",
    "* **output_xvg_path** (*str*): Path to the XVG output file."
   ]
  },
  {
   "cell_type": "markdown",
   "metadata": {},
   "source": [
    "### Config"
   ]
  },
  {
   "cell_type": "markdown",
   "metadata": {},
   "source": [
    "Syntax: input_parameter (datatype) - (default_value) Definition\n",
    "\n",
    "Config parameters for this building block:\n",
    "\n",
    "* **xvg** (*str*) - (\"none\") XVG plot formatting: xmgrace, xmgr, none.\n",
    "* **selection** (*str*) - (\"System\") Group where the rgyr will be performed: System, Protein, Protein-H, C-alpha, Backbone, MainChain, MainChain+Cb, MainChain+H, SideChain, SideChain-H, Prot-Masses, non-Protein, Water, SOL, non-Water, Ion, NA, CL, Water_and_ions.\n",
    "* **gmx_path** (*str*) - (\"gmx\") Path to the GROMACS executable binary."
   ]
  },
  {
   "cell_type": "markdown",
   "metadata": {},
   "source": [
    "### YAML file config"
   ]
  },
  {
   "cell_type": "markdown",
   "metadata": {},
   "source": [
    "gmx_rgyr.yml:"
   ]
  },
  {
   "cell_type": "code",
   "execution_count": null,
   "metadata": {},
   "outputs": [],
   "source": [
    "properties:\n",
    "  selection: Protein-H"
   ]
  },
  {
   "cell_type": "markdown",
   "metadata": {},
   "source": [
    "Command:"
   ]
  },
  {
   "cell_type": "code",
   "execution_count": null,
   "metadata": {},
   "outputs": [],
   "source": [
    "gmx_rgyr --config data/conf/gmx_rgyr.yml --input_structure_path data/input/rgyr.gro --input_traj_path data/input/rgyr.trr --output_xvg_path data/output/output.rgyr.xvg"
   ]
  },
  {
   "cell_type": "markdown",
   "metadata": {},
   "source": [
    "### JSON file config"
   ]
  },
  {
   "cell_type": "markdown",
   "metadata": {},
   "source": [
    "gmx_rgyr.json:"
   ]
  },
  {
   "cell_type": "code",
   "execution_count": null,
   "metadata": {},
   "outputs": [],
   "source": [
    "{\n",
    "  \"properties\": {\n",
    "    \"selection\": \"Protein-H\"\n",
    "  }\n",
    "}"
   ]
  },
  {
   "cell_type": "markdown",
   "metadata": {},
   "source": [
    "Command:"
   ]
  },
  {
   "cell_type": "code",
   "execution_count": null,
   "metadata": {},
   "outputs": [],
   "source": [
    "gmx_rgyr --config data/conf/gmx_rgyr.json --input_structure_path data/input/rgyr.gro --input_traj_path data/input/rgyr.trr --output_xvg_path data/output/output.rgyr.xvg"
   ]
  },
  {
   "cell_type": "markdown",
   "metadata": {},
   "source": [
    "## Gromacs rms"
   ]
  },
  {
   "cell_type": "markdown",
   "metadata": {},
   "source": [
    "Wrapper of the GROMACS rms (http://manual.gromacs.org/current/onlinehelp/gmx-rms.html) module."
   ]
  },
  {
   "cell_type": "markdown",
   "metadata": {},
   "source": [
    "### Get help"
   ]
  },
  {
   "cell_type": "markdown",
   "metadata": {},
   "source": [
    "Command:"
   ]
  },
  {
   "cell_type": "code",
   "execution_count": null,
   "metadata": {},
   "outputs": [],
   "source": [
    "gmx_rms -h"
   ]
  },
  {
   "cell_type": "code",
   "execution_count": null,
   "metadata": {},
   "outputs": [],
   "source": [
    "usage: gmx_rms [-h] [--config CONFIG] [--system SYSTEM] [--step STEP] --input_structure_path INPUT_STRUCTURE_PATH --input_traj_path INPUT_TRAJ_PATH --output_xvg_path OUTPUT_XVG_PATH\n",
    "\n",
    "Wrapper for the GROMACS rms module.\n",
    "\n",
    "optional arguments:\n",
    "  -h, --help            show this help message and exit\n",
    "  --config CONFIG       Configuration file\n",
    "  --system SYSTEM       Check 'https://biobb-common.readthedocs.io/en/latest/system_step.html' for help\n",
    "  --step STEP           Check 'https://biobb-common.readthedocs.io/en/latest/system_step.html' for help\n",
    "\n",
    "required arguments:\n",
    "  --input_structure_path INPUT_STRUCTURE_PATH\n",
    "                        Path to the input structure file: tpr, gro, g96, pdb, brk, ent.\n",
    "  --input_traj_path INPUT_TRAJ_PATH\n",
    "                        Path to the GROMACS trajectory file: xtc, trr, cpt, gro, g96, pdb, tng.\n",
    "  --output_xvg_path OUTPUT_XVG_PATH\n",
    "                        Path to the XVG output file."
   ]
  },
  {
   "cell_type": "markdown",
   "metadata": {},
   "source": [
    "### I / O Arguments"
   ]
  },
  {
   "cell_type": "markdown",
   "metadata": {},
   "source": [
    "Syntax: input_argument (datatype) : Definition\n",
    "\n",
    "Config input / output arguments for this building block:\n",
    "\n",
    "* **input_structure_path** (*str*): Path to the input structure file: tpr, gro, g96, pdb, brk, ent.\n",
    "* **input_traj_path** (*str*): Path to the GROMACS trajectory file: xtc, trr, cpt, gro, g96, pdb, tng.\n",
    "* **output_xvg_path** (*str*): Path to the XVG output file."
   ]
  },
  {
   "cell_type": "markdown",
   "metadata": {},
   "source": [
    "### Config"
   ]
  },
  {
   "cell_type": "markdown",
   "metadata": {},
   "source": [
    "Syntax: input_parameter (datatype) - (default_value) Definition\n",
    "\n",
    "Config parameters for this building block:\n",
    "\n",
    "* **xvg** (*str*) - (\"none\") XVG plot formatting: xmgrace, xmgr, none.\n",
    "* **selection** (*str*) - (\"System\") Group where the rgyr will be performed: System, Protein, Protein-H, C-alpha, Backbone, MainChain, MainChain+Cb, MainChain+H, SideChain, SideChain-H, Prot-Masses, non-Protein, Water, SOL, non-Water, Ion, NA, CL, Water_and_ions.\n",
    "* **gmx_path** (*str*) - (\"gmx\") Path to the GROMACS executable binary."
   ]
  },
  {
   "cell_type": "markdown",
   "metadata": {},
   "source": [
    "### YAML file config"
   ]
  },
  {
   "cell_type": "markdown",
   "metadata": {},
   "source": [
    "gmx_rms.yml:"
   ]
  },
  {
   "cell_type": "code",
   "execution_count": null,
   "metadata": {},
   "outputs": [],
   "source": [
    "properties:\n",
    "  selection: Protein-H"
   ]
  },
  {
   "cell_type": "markdown",
   "metadata": {},
   "source": [
    "Command:"
   ]
  },
  {
   "cell_type": "code",
   "execution_count": null,
   "metadata": {},
   "outputs": [],
   "source": [
    "gmx_rms --config data/conf/gmx_rms.yml --input_structure_path data/input/rgyr.gro --input_traj_path data/input/rgyr.trr --output_xvg_path data/output/output.rms.xvg"
   ]
  },
  {
   "cell_type": "markdown",
   "metadata": {},
   "source": [
    "### JSON file config"
   ]
  },
  {
   "cell_type": "markdown",
   "metadata": {},
   "source": [
    "gmx_rgyr.json:"
   ]
  },
  {
   "cell_type": "code",
   "execution_count": null,
   "metadata": {},
   "outputs": [],
   "source": [
    "{\n",
    "  \"properties\": {\n",
    "    \"selection\": \"Protein-H\"\n",
    "  }\n",
    "}"
   ]
  },
  {
   "cell_type": "markdown",
   "metadata": {},
   "source": [
    "Command:"
   ]
  },
  {
   "cell_type": "code",
   "execution_count": null,
   "metadata": {},
   "outputs": [],
   "source": [
    "gmx_rms --config data/conf/gmx_rms.json --input_structure_path data/input/rgyr.gro --input_traj_path data/input/rgyr.trr --output_xvg_path data/output/output.rms.xvg"
   ]
  },
  {
   "cell_type": "markdown",
   "metadata": {},
   "source": [
    "## Gromacs trjconv structure"
   ]
  },
  {
   "cell_type": "markdown",
   "metadata": {},
   "source": [
    "Wrapper of the GROMACS trjconv (http://manual.gromacs.org/documentation/2018/onlinehelp/gmx-trjconv.html) module."
   ]
  },
  {
   "cell_type": "markdown",
   "metadata": {},
   "source": [
    "### Get help"
   ]
  },
  {
   "cell_type": "markdown",
   "metadata": {},
   "source": [
    "Command:"
   ]
  },
  {
   "cell_type": "code",
   "execution_count": null,
   "metadata": {},
   "outputs": [],
   "source": [
    "gmx_trjconv_str -h"
   ]
  },
  {
   "cell_type": "code",
   "execution_count": null,
   "metadata": {},
   "outputs": [],
   "source": [
    "usage: gmx_trjconv_str [-h] [--config CONFIG] [--system SYSTEM] [--step STEP] --input_structure_path INPUT_STRUCTURE_PATH --input_top_path INPUT_TOP_PATH --output_str_path OUTPUT_STR_PATH\n",
    "\n",
    "Wrapper of the GROMACS trjconv module.\n",
    "\n",
    "optional arguments:\n",
    "  -h, --help            show this help message and exit\n",
    "  --config CONFIG       Configuration file\n",
    "  --system SYSTEM       Check 'https://biobb-common.readthedocs.io/en/latest/system_step.html' for help\n",
    "  --step STEP           Check 'https://biobb-common.readthedocs.io/en/latest/system_step.html' for help\n",
    "\n",
    "required arguments:\n",
    "  --input_structure_path INPUT_STRUCTURE_PATH\n",
    "                        Path to the input structure file: xtc, trr, cpt, gro, g96, pdb, tng.\n",
    "  --input_top_path INPUT_TOP_PATH\n",
    "                        Path to the GROMACS input topology file: tpr, gro, g96, pdb, brk, ent.\n",
    "  --output_str_path OUTPUT_STR_PATH\n",
    "                        Path to the output file: xtc, trr, gro, g96, pdb, tng."
   ]
  },
  {
   "cell_type": "markdown",
   "metadata": {},
   "source": [
    "### I / O Arguments"
   ]
  },
  {
   "cell_type": "markdown",
   "metadata": {},
   "source": [
    "Syntax: input_argument (datatype) : Definition\n",
    "\n",
    "Config input / output arguments for this building block:\n",
    "\n",
    "* **input_structure_path** (*str*): Path to the input structure file: xtc, trr, cpt, gro, g96, pdb, tng.\n",
    "* **input_top_path** (*str*): Path to the GROMACS input topology file: tpr, gro, g96, pdb, brk, ent.\n",
    "* **output_str_path** (*str*): Path to the output file: xtc, trr, gro, g96, pdb, tng."
   ]
  },
  {
   "cell_type": "markdown",
   "metadata": {},
   "source": [
    "### Config"
   ]
  },
  {
   "cell_type": "markdown",
   "metadata": {},
   "source": [
    "Syntax: input_parameter (datatype) - (default_value) Definition\n",
    "\n",
    "Config parameters for this building block:\n",
    "\n",
    "* **selection** (*str*) - (\"System\") Group where the trjconv will be performed: System, Protein, Protein-H, C-alpha, Backbone, MainChain, MainChain+Cb, MainChain+H, SideChain, SideChain-H, Prot-Masses, non-Protein, Water, SOL, non-Water, Ion, NA, CL, Water_and_ions.\n",
    "* **gmx_path** (*str*) - (\"gmx\") Path to the GROMACS executable binary."
   ]
  },
  {
   "cell_type": "markdown",
   "metadata": {},
   "source": [
    "### YAML file config"
   ]
  },
  {
   "cell_type": "markdown",
   "metadata": {},
   "source": [
    "gmx_trjconv_str.yml:"
   ]
  },
  {
   "cell_type": "code",
   "execution_count": null,
   "metadata": {},
   "outputs": [],
   "source": [
    "properties:\n",
    "  selection: Protein-H"
   ]
  },
  {
   "cell_type": "markdown",
   "metadata": {},
   "source": [
    "Command:"
   ]
  },
  {
   "cell_type": "code",
   "execution_count": null,
   "metadata": {},
   "outputs": [],
   "source": [
    "gmx_trjconv_str --config data/conf/gmx_trjconv_str.yml --input_structure_path data/input/trjconv.str.gro --input_top_path data/input/trjconv.str.gro --output_str_path data/output/output.trjconv.str.pdb"
   ]
  },
  {
   "cell_type": "markdown",
   "metadata": {},
   "source": [
    "### JSON file config"
   ]
  },
  {
   "cell_type": "markdown",
   "metadata": {},
   "source": [
    "gmx_rgyr.json:"
   ]
  },
  {
   "cell_type": "code",
   "execution_count": null,
   "metadata": {},
   "outputs": [],
   "source": [
    "{\n",
    "  \"properties\": {\n",
    "    \"selection\": \"Protein-H\"\n",
    "  }\n",
    "}"
   ]
  },
  {
   "cell_type": "markdown",
   "metadata": {},
   "source": [
    "Command:"
   ]
  },
  {
   "cell_type": "code",
   "execution_count": null,
   "metadata": {},
   "outputs": [],
   "source": [
    "gmx_trjconv_str --config data/conf/gmx_trjconv_str.json --input_structure_path data/input/trjconv.str.gro --input_top_path data/input/trjconv.str.gro --output_str_path data/output/output.trjconv.str.pdb"
   ]
  },
  {
   "cell_type": "markdown",
   "metadata": {},
   "source": [
    "## Gromacs trjconv structure ensemble"
   ]
  },
  {
   "cell_type": "markdown",
   "metadata": {},
   "source": [
    "Wrapper of the GROMACS trjconv (http://manual.gromacs.org/documentation/2018/onlinehelp/gmx-trjconv.html) module."
   ]
  },
  {
   "cell_type": "markdown",
   "metadata": {},
   "source": [
    "### Get help"
   ]
  },
  {
   "cell_type": "markdown",
   "metadata": {},
   "source": [
    "Command:"
   ]
  },
  {
   "cell_type": "code",
   "execution_count": null,
   "metadata": {},
   "outputs": [],
   "source": [
    "gmx_trjconv_str_ens -h"
   ]
  },
  {
   "cell_type": "code",
   "execution_count": null,
   "metadata": {},
   "outputs": [],
   "source": [
    "usage: gmx_trjconv_str_ens [-h] [--config CONFIG] [--system SYSTEM] [--step STEP] --input_traj_path INPUT_TRAJ_PATH --input_top_path INPUT_TOP_PATH --output_str_ens_path OUTPUT_STR_ENS_PATH\n",
    "\n",
    "Wrapper of the GROMACS trjconv module.\n",
    "\n",
    "optional arguments:\n",
    "  -h, --help            show this help message and exit\n",
    "  --config CONFIG       Configuration file\n",
    "  --system SYSTEM       Check 'https://biobb-common.readthedocs.io/en/latest/system_step.html' for help\n",
    "  --step STEP           Check 'https://biobb-common.readthedocs.io/en/latest/system_step.html' for help\n",
    "\n",
    "required arguments:\n",
    "  --input_traj_path INPUT_TRAJ_PATH\n",
    "                        Path to the GROMACS trajectory file: xtc, trr, cpt, gro, g96, pdb, tng.\n",
    "  --input_top_path INPUT_TOP_PATH\n",
    "                        Path to the GROMACS input topology file: tpr, gro, g96, pdb, brk, ent.\n",
    "  --output_str_ens_path OUTPUT_STR_ENS_PATH\n",
    "                        Path to the output file: gro, g96, pdb."
   ]
  },
  {
   "cell_type": "markdown",
   "metadata": {},
   "source": [
    "### I / O Arguments"
   ]
  },
  {
   "cell_type": "markdown",
   "metadata": {},
   "source": [
    "Syntax: input_argument (datatype) : Definition\n",
    "\n",
    "Config input / output arguments for this building block:\n",
    "\n",
    "* **input_traj_path** (*str*): Path to the input structure file: xtc, trr, cpt, gro, g96, pdb, tng.\n",
    "* **input_top_path** (*str*): Path to the GROMACS input topology file: tpr, gro, g96, pdb, brk, ent.\n",
    "* **output_str_ens_path** (*str*): Path to the output file: gro, g96, pdb."
   ]
  },
  {
   "cell_type": "markdown",
   "metadata": {},
   "source": [
    "### Config"
   ]
  },
  {
   "cell_type": "markdown",
   "metadata": {},
   "source": [
    "Syntax: input_parameter (datatype) - (default_value) Definition\n",
    "\n",
    "Config parameters for this building block:\n",
    "\n",
    "* **selection** (*str*) - (\"System\") Group where the trjconv will be performed: System, Protein, Protein-H, C-alpha, Backbone, MainChain, MainChain+Cb, MainChain+H, SideChain, SideChain-H, Prot-Masses, non-Protein, Water, SOL, non-Water, Ion, NA, CL, Water_and_ions.\n",
    "* **start** (*int*) - (0) Time of first frame to read from trajectory (default unit ps).\n",
    "* **end** (*int*) - (0) Time of last frame to read from trajectory (default unit ps).\n",
    "* **dt** (*int*) - (0) Only write frame when t MOD dt = first time (ps).\n",
    "* **output_name** (*str*) - (\"output\") File name for ensemble of output files.\n",
    "* **output_type** (*str*) - (\"pdb\") File type for ensemble of output files: gro, g96, pdb.\n",
    "* **gmx_path** (*str*) - (\"gmx\") Path to the GROMACS executable binary."
   ]
  },
  {
   "cell_type": "markdown",
   "metadata": {},
   "source": [
    "### YAML file config"
   ]
  },
  {
   "cell_type": "markdown",
   "metadata": {},
   "source": [
    "gmx_trjconv_str_ens.yml:"
   ]
  },
  {
   "cell_type": "code",
   "execution_count": null,
   "metadata": {},
   "outputs": [],
   "source": [
    "properties:\n",
    "  selection: Protein-H\n",
    "  start: 0\n",
    "  end: 10\n",
    "  dt: 1\n",
    "  output_name: output\n",
    "  output_type: pdb"
   ]
  },
  {
   "cell_type": "markdown",
   "metadata": {},
   "source": [
    "Command:"
   ]
  },
  {
   "cell_type": "code",
   "execution_count": null,
   "metadata": {},
   "outputs": [],
   "source": [
    "gmx_trjconv_str_ens --config data/conf/gmx_trjconv_str_ens.yml --input_traj_path data/input/trjconv.str.ens.trr --input_top_path data/input/trjconv.str.ens.gro --output_str_ens_path data/output/output.trjconv.str.ens.zip"
   ]
  },
  {
   "cell_type": "markdown",
   "metadata": {},
   "source": [
    "### JSON file config"
   ]
  },
  {
   "cell_type": "markdown",
   "metadata": {},
   "source": [
    "gmx_rgyr.json:"
   ]
  },
  {
   "cell_type": "code",
   "execution_count": null,
   "metadata": {},
   "outputs": [],
   "source": [
    "{\n",
    "  \"properties\": {\n",
    "    \"selection\": \"Protein-H\",\n",
    "    \"start\": 0,\n",
    "    \"end\": 10,\n",
    "    \"dt\": 1,\n",
    "    \"output_name\": \"output\",\n",
    "    \"output_type\": \"pdb\"\n",
    "  }\n",
    "}"
   ]
  },
  {
   "cell_type": "markdown",
   "metadata": {},
   "source": [
    "Command:"
   ]
  },
  {
   "cell_type": "code",
   "execution_count": null,
   "metadata": {},
   "outputs": [],
   "source": [
    "gmx_trjconv_str_ens --config data/conf/gmx_trjconv_str_ens.json --input_traj_path data/input/trjconv.str.ens.trr --input_top_path data/input/trjconv.str.ens.gro --output_str_ens_path data/output/output.trjconv.str.ens.zip"
   ]
  },
  {
   "cell_type": "markdown",
   "metadata": {},
   "source": [
    "## Gromacs trjconv trajectory"
   ]
  },
  {
   "cell_type": "markdown",
   "metadata": {},
   "source": [
    "Wrapper of the GROMACS trjconv (http://manual.gromacs.org/documentation/2018/onlinehelp/gmx-trjconv.html) module."
   ]
  },
  {
   "cell_type": "markdown",
   "metadata": {},
   "source": [
    "### Get help"
   ]
  },
  {
   "cell_type": "markdown",
   "metadata": {},
   "source": [
    "Command:"
   ]
  },
  {
   "cell_type": "code",
   "execution_count": null,
   "metadata": {},
   "outputs": [],
   "source": [
    "gmx_trjconv_trj -h"
   ]
  },
  {
   "cell_type": "code",
   "execution_count": null,
   "metadata": {},
   "outputs": [],
   "source": [
    "usage: gmx_trjconv_trj [-h] [--config CONFIG] [--system SYSTEM] [--step STEP] --input_traj_path INPUT_TRAJ_PATH --output_traj_path OUTPUT_TRAJ_PATH\n",
    "\n",
    "Wrapper of the GROMACS trjconv module.\n",
    "\n",
    "optional arguments:\n",
    "  -h, --help            show this help message and exit\n",
    "  --config CONFIG       Configuration file\n",
    "  --system SYSTEM       Check 'https://biobb-common.readthedocs.io/en/latest/system_step.html' for help\n",
    "  --step STEP           Check 'https://biobb-common.readthedocs.io/en/latest/system_step.html' for help\n",
    "\n",
    "required arguments:\n",
    "  --input_traj_path INPUT_TRAJ_PATH\n",
    "                        Path to the GROMACS trajectory file: xtc, trr, cpt, gro, g96, pdb, tng.\n",
    "  --output_traj_path OUTPUT_TRAJ_PATH\n",
    "                        Path to the output file: xtc, trr, gro, g96, pdb, tng."
   ]
  },
  {
   "cell_type": "markdown",
   "metadata": {},
   "source": [
    "### I / O Arguments"
   ]
  },
  {
   "cell_type": "markdown",
   "metadata": {},
   "source": [
    "Syntax: input_argument (datatype) : Definition\n",
    "\n",
    "Config input / output arguments for this building block:\n",
    "\n",
    "* **input_traj_path** (*str*): Path to the GROMACS trajectory file: xtc, trr, cpt, gro, g96, pdb, tng.\n",
    "* **output_traj_path** (*str*): Path to the output file: xtc, trr, gro, g96, pdb, tng."
   ]
  },
  {
   "cell_type": "markdown",
   "metadata": {},
   "source": [
    "### Config"
   ]
  },
  {
   "cell_type": "markdown",
   "metadata": {},
   "source": [
    "Syntax: input_parameter (datatype) - (default_value) Definition\n",
    "\n",
    "Config parameters for this building block:\n",
    "\n",
    "* **selection** (*str*) - (\"System\") Group where the trjconv will be performed: System, Protein, Protein-H, C-alpha, Backbone, MainChain, MainChain+Cb, MainChain+H, SideChain, SideChain-H, Prot-Masses, non-Protein, Water, SOL, non-Water, Ion, NA, CL, Water_and_ions.\n",
    "* **start** (*int*) - (0) Time of first frame to read from trajectory (default unit ps).\n",
    "* **end** (*int*) - (0) Time of last frame to read from trajectory (default unit ps).\n",
    "* **dt** (*int*) - (0) Only write frame when t MOD dt = first time (ps).\n",
    "* **gmx_path** (*str*) - (\"gmx\") Path to the GROMACS executable binary."
   ]
  },
  {
   "cell_type": "markdown",
   "metadata": {},
   "source": [
    "### YAML file config"
   ]
  },
  {
   "cell_type": "markdown",
   "metadata": {},
   "source": [
    "gmx_trjconv_trj.yml:"
   ]
  },
  {
   "cell_type": "code",
   "execution_count": null,
   "metadata": {},
   "outputs": [],
   "source": [
    "properties:\n",
    "  selection: Protein-H\n",
    "  start: 0\n",
    "  end: 0\n",
    "  dt: 0"
   ]
  },
  {
   "cell_type": "markdown",
   "metadata": {},
   "source": [
    "Command:"
   ]
  },
  {
   "cell_type": "code",
   "execution_count": null,
   "metadata": {},
   "outputs": [],
   "source": [
    "gmx_trjconv_trj --config data/conf/gmx_trjconv_str_ens.yml --input_traj_path data/input/trjconv.trj.trr --output_traj_path data/output/output.trjconv.trj.xtc"
   ]
  },
  {
   "cell_type": "markdown",
   "metadata": {},
   "source": [
    "### JSON file config"
   ]
  },
  {
   "cell_type": "markdown",
   "metadata": {},
   "source": [
    "gmx_rgyr.json:"
   ]
  },
  {
   "cell_type": "code",
   "execution_count": null,
   "metadata": {},
   "outputs": [],
   "source": [
    "{\n",
    "  \"properties\": {\n",
    "    \"selection\": \"Protein-H\",\n",
    "    \"start\": 0,\n",
    "    \"end\": 0,\n",
    "    \"dt\": 0\n",
    "  }\n",
    "}"
   ]
  },
  {
   "cell_type": "markdown",
   "metadata": {},
   "source": [
    "Command:"
   ]
  },
  {
   "cell_type": "code",
   "execution_count": null,
   "metadata": {},
   "outputs": [],
   "source": [
    "gmx_trjconv_trj --config data/conf/gmx_trjconv_str_ens.json --input_traj_path data/input/trjconv.trj.trr --output_traj_path data/output/output.trjconv.trj.xtc"
   ]
  },
  {
   "cell_type": "code",
   "execution_count": null,
   "metadata": {},
   "outputs": [],
   "source": []
  }
 ],
 "metadata": {
  "kernelspec": {
   "display_name": "Python 3",
   "language": "python",
   "name": "python3"
  },
  "language_info": {
   "codemirror_mode": {
    "name": "ipython",
    "version": 3
   },
   "file_extension": ".py",
   "mimetype": "text/x-python",
   "name": "python",
   "nbconvert_exporter": "python",
   "pygments_lexer": "ipython3",
   "version": "3.6.0"
  }
 },
 "nbformat": 4,
 "nbformat_minor": 2
}
